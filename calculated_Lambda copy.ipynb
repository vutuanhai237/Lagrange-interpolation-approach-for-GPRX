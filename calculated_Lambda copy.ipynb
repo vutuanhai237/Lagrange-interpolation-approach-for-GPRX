{
 "cells": [
  {
   "cell_type": "code",
   "execution_count": 34,
   "metadata": {},
   "outputs": [],
   "source": [
    "import numpy as np\n",
    "import spatial\n",
    "import importlib\n",
    "importlib.reload(spatial)\n",
    "from polynomial import Polymonial, multiXPoly, addXPoly\n",
    "\n",
    "def calculate_Lambda(lambdas, alpha):\n",
    "    # Begin algorithm 1\n",
    "    R = len(lambdas)\n",
    "    Ss = []\n",
    "    for k in range(0, R):\n",
    "        P = np.exp(-1j * alpha * lambdas[k])\n",
    "        Vs = []\n",
    "        for l in range(0, R):\n",
    "            if l != k: \n",
    "                P = P / (lambdas[k] - lambdas[l])\n",
    "                Vs.append(Polymonial([-lambdas[l], 1]))\n",
    "        V = multiXPoly(Vs)\n",
    "        Ss.append(V.multiX(P))\n",
    "    S = addXPoly(Ss)\n",
    "    return S\n",
    "def calculate_M(lambdas, alpha):\n",
    "    # This return Lambda_0, Lambda_1, ...\n",
    "    Lambdas = calculate_Lambda(lambdas, alpha).coeff\n",
    "    M = np.zeros([len(Lambdas), len(Lambdas)], dtype = np.complex128)\n",
    "    for i in range(0, len(Lambdas)):\n",
    "        for j in range(0, len(Lambdas)):\n",
    "            M[i, j] = np.conjugate(Lambdas[i]) * Lambdas[j]\n",
    "    return M\n",
    "\n",
    "def check_symmetric(a, rtol=1e-05, atol=1e-08):\n",
    "    return np.allclose(a, np.conjugate(a.T), rtol=rtol, atol=atol)\n",
    "def calculate_distance_matrix(A, B):\n",
    "    d = 0\n",
    "    for i in range(0, A.shape[0]):\n",
    "        for j in range(0, A.shape[1]):\n",
    "            d += np.abs(A[i, j] - B[i, j])**2\n",
    "    return np.sqrt(d)\n",
    "    \n",
    "# alpha = -np.pi / 2\n",
    "# lambdas = [-1, 0, 1]\n",
    "# S = calculate_Lambda(lambdas, alpha)\n",
    "# print(S.coeff)"
   ]
  },
  {
   "cell_type": "code",
   "execution_count": 35,
   "metadata": {},
   "outputs": [],
   "source": [
    "\n",
    "def calculate_pseudo_c(d3, c):\n",
    "    return d3*(calculate_M(lambdas, c) - calculate_M(lambdas, -c))\n",
    "def loss(d3, c):\n",
    "    return calculate_distance_matrix(calculate_pseudo_c(d3, c), C)\n",
    "alpha = np.pi / 4\n",
    "beta = np.pi / 2\n",
    "c = 3 * np.pi / 2\n",
    "# lambdas = [-1, 0, 1]\n",
    "lambdas = [-3/2, -1/2, 1/2, 3/2]\n",
    "Lambdas = calculate_Lambda(lambdas, alpha).coeff\n",
    "delta_Malpha = calculate_M(lambdas, alpha) - calculate_M(lambdas, -alpha)\n",
    "delta_Mbeta = calculate_M(lambdas, beta) - calculate_M(lambdas, -beta)\n",
    "delta_Mc = calculate_M(lambdas, c) - calculate_M(lambdas, -c)\n",
    "\n",
    "d1 = 1/2\n",
    "d2 = (-np.sqrt(2) + 1) / 4\n",
    "\n",
    "\n",
    "# Create target matrix\n",
    "X = d1*delta_Malpha + d2*delta_Mbeta\n",
    "C = -X.copy()\n",
    "C[0, 1] = 0\n",
    "C[1, 0] = 0 \n",
    "\n",
    "\n",
    "\n",
    "\n",
    "searcher = spatial.SpatialSearch(loss_func = loss, radius = 1, center = (1, np.pi))\n",
    "solution = searcher.fit(learning_rate = 2, threshold=10**(-4), limit_step = 1000)\n"
   ]
  },
  {
   "cell_type": "code",
   "execution_count": 40,
   "metadata": {},
   "outputs": [
    {
     "data": {
      "text/plain": [
       "array([[ 2.98956825e+13+0.00000000e+00j, -0.00000000e+00+5.18191829e+13j,\n",
       "        -2.39165460e+13-1.00000000e-03j,  0.00000000e+00-1.59443640e+13j],\n",
       "       [-0.00000000e+00-5.18191829e+13j,  8.98199171e+13+0.00000000e+00j,\n",
       "        -1.00000000e-03+4.14553463e+13j, -2.76368976e+13-1.00000000e-03j],\n",
       "       [-2.39165460e+13+1.00000000e-03j, -1.00000000e-03-4.14553463e+13j,\n",
       "         1.91332368e+13+0.00000000e+00j,  0.00000000e+00+1.27554912e+13j],\n",
       "       [ 0.00000000e+00+1.59443640e+13j, -2.76368976e+13+1.00000000e-03j,\n",
       "         0.00000000e+00-1.27554912e+13j,  8.50366079e+12+0.00000000e+00j]])"
      ]
     },
     "execution_count": 40,
     "metadata": {},
     "output_type": "execute_result"
    }
   ],
   "source": [
    "np.round(solution[0]*calculate_M(lambdas, c) - calculate_M(lambdas, -c), 3)"
   ]
  },
  {
   "cell_type": "code",
   "execution_count": 41,
   "metadata": {},
   "outputs": [
    {
     "data": {
      "text/plain": [
       "array([[0.+0.00000000e+00j, 0.-1.64020200e-02j, 0.+0.00000000e+00j,\n",
       "        0.+9.37258287e-03j],\n",
       "       [0.+1.64020200e-02j, 0.+0.00000000e+00j, 0.-2.18693600e-02j,\n",
       "        0.-1.41501211e-18j],\n",
       "       [0.+0.00000000e+00j, 0.+2.18693600e-02j, 0.+0.00000000e+00j,\n",
       "        0.-1.24967772e-02j],\n",
       "       [0.-9.37258287e-03j, 0.+1.41501211e-18j, 0.+1.24967772e-02j,\n",
       "        0.+0.00000000e+00j]])"
      ]
     },
     "execution_count": 41,
     "metadata": {},
     "output_type": "execute_result"
    }
   ],
   "source": [
    "calculate_pseudo_c(solution[0], solution[1])"
   ]
  },
  {
   "cell_type": "code",
   "execution_count": 20,
   "metadata": {},
   "outputs": [
    {
     "data": {
      "text/plain": [
       "array([[0.+0.j        , 0.-0.49694903j, 0.+0.j        , 0.+0.j        ],\n",
       "       [0.+0.49694903j, 0.+0.j        , 0.+0.j        , 0.+0.j        ],\n",
       "       [0.+0.j        , 0.+0.j        , 0.+0.j        , 0.+0.j        ],\n",
       "       [0.+0.j        , 0.+0.j        , 0.+0.j        , 0.+0.j        ]])"
      ]
     },
     "execution_count": 20,
     "metadata": {},
     "output_type": "execute_result"
    }
   ],
   "source": [
    "X + C"
   ]
  },
  {
   "cell_type": "code",
   "execution_count": 79,
   "metadata": {},
   "outputs": [
    {
     "name": "stdout",
     "output_type": "stream",
     "text": [
      "[[0.+0.00000000e+00j 0.-5.00000000e-01j 0.+0.00000000e+00j]\n",
      " [0.+5.00000000e-01j 0.+0.00000000e+00j 0.+5.55111512e-17j]\n",
      " [0.+0.00000000e+00j 0.-5.55111512e-17j 0.+0.00000000e+00j]]\n"
     ]
    }
   ],
   "source": [
    "alpha = np.pi / 4\n",
    "beta = 3*np.pi / 4\n",
    "lambdas = [-1, 0, 1]\n",
    "\n",
    "delta_Malpha = calculate_M(lambdas, alpha) - calculate_M(lambdas, -alpha)\n",
    "delta_Mbeta = calculate_M(lambdas, beta) - calculate_M(lambdas, -beta)\n",
    "\n",
    "d1 = (np.sqrt(2) + 1)/(4*np.sqrt(2))\n",
    "d2 = (-np.sqrt(2) + 1)/(4*np.sqrt(2))\n",
    "\n",
    "print(d1*delta_Malpha + d2*delta_Mbeta)"
   ]
  }
 ],
 "metadata": {
  "interpreter": {
   "hash": "770b641b4564229c593d803dcff32fdd6beb94e7a78ba8806c95b100ce213599"
  },
  "kernelspec": {
   "display_name": "Python 3.8.0 64-bit",
   "language": "python",
   "name": "python3"
  },
  "language_info": {
   "codemirror_mode": {
    "name": "ipython",
    "version": 3
   },
   "file_extension": ".py",
   "mimetype": "text/x-python",
   "name": "python",
   "nbconvert_exporter": "python",
   "pygments_lexer": "ipython3",
   "version": "3.8.0"
  },
  "orig_nbformat": 4
 },
 "nbformat": 4,
 "nbformat_minor": 2
}
