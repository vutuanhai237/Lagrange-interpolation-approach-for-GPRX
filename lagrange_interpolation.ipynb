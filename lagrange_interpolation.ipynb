{
 "cells": [
  {
   "cell_type": "markdown",
   "metadata": {},
   "source": [
    "### Lagrange interpolation approach\n",
    "\n",
    "Consider gate $U(x) = e^{-ixG}$\n",
    "\n",
    "$G$ has $n$ distinguish eigenvalues $\\lambda_k, k=\\{0,1,...,n-1\\}$\n",
    "\n",
    "$e^{-i x \\boldsymbol{G}}=\\sum_{k=0}^{n-1} e^{-i x \\lambda_{k}} \\prod_{l=0, l \\neq k}^{n-1} \\frac{\\boldsymbol{G}-\\lambda_{l} \\boldsymbol{I}}{\\lambda_{k}-\\lambda_{l}} = f(\\boldsymbol{G})=\\Lambda_0 I + \\Lambda_1 G + ... + \\Lambda_{n-1} G^{n - 1}$\n",
    "\n",
    "#### 1. Calculate coeff ${\\Lambda_i}$ of a gate\n",
    "\n",
    "Here we treat $\\boldsymbol{G}$ as a variable. The input is only x and eigenvalues ${\\lambda_i}$"
   ]
  },
  {
   "cell_type": "code",
   "execution_count": 1,
   "metadata": {},
   "outputs": [
    {
     "name": "stdout",
     "output_type": "stream",
     "text": [
      "Lambda_i:  [(1.1481063742006435e-16+0j), (1.7333369499485123e-33+1.2416666666666667j), (-5.612964496092034e-17+8.673617379884035e-18j), (4.81482486096809e-34-0.24999999999999994j), (2.551347498223652e-18-6.505213034913027e-19j), (1.2037062152420224e-35+0.008333333333333335j)]\n"
     ]
    }
   ],
   "source": [
    "import numpy as np\n",
    "import base\n",
    "# Input\n",
    "x = -np.pi / 2\n",
    "lambdas = [-5, -3, -1, 1, 3, 5]\n",
    "# Polynomial presentation\n",
    "fG = base.calculate_Lambda(lambdas, x)\n",
    "# Output\n",
    "print(\"Lambda_i: \", fG.coeff)\n"
   ]
  },
  {
   "cell_type": "markdown",
   "metadata": {},
   "source": [
    "#### 2. Using more term to correct parameter-shift rule"
   ]
  },
  {
   "cell_type": "code",
   "execution_count": 2,
   "metadata": {},
   "outputs": [],
   "source": [
    "alpha = np.pi / 4\n",
    "# beta = np.pi / 2\n",
    "# gamma = np.pi / 3\n",
    "lambdas = [-1, 0, 1]\n",
    "# lambdas = [-3/2, -1/2, 1/2, 3/2]\n",
    "# lambdas = [-2, -1, 0, 1, 2]\n",
    "# lambdas = [-3, -2, -1, 1, 2, 3]\n",
    "# lambdas = [-3, -2, -1, 0, 1, 2, 5]\n",
    "delta_Malpha = base.calculate_Lambda_matrix(\n",
    "    lambdas, alpha) - base.calculate_Lambda_matrix(lambdas, -alpha)\n",
    "# delta_Mbeta = base.calculate_Lambda_matrix(lambdas, beta) - base.calculate_Lambda_matrix(lambdas, -beta)\n",
    "# delta_Mgamma = base.calculate_Lambda_matrix(lambdas, gamma) - base.calculate_Lambda_matrix(lambdas, -gamma)\n",
    "d1 = 1/2\n",
    "d2 = (-np.sqrt(2) + 1) / 4\n",
    "# T_alpha = upper_matrix(delta_Malpha)\n",
    "# T_beta = upper_matrix(delta_Mbeta)\n",
    "# T_gamma = upper_matrix(delta_Mgamma)\n"
   ]
  },
  {
   "cell_type": "code",
   "execution_count": 3,
   "metadata": {},
   "outputs": [
    {
     "name": "stdout",
     "output_type": "stream",
     "text": [
      "[[ 0.+0.j     0.-1.414j  0.+0.j   ]\n",
      " [ 0.+1.414j  0.+0.j    -0.-0.414j]\n",
      " [ 0.+0.j    -0.+0.414j  0.+0.j   ]]\n",
      "[[-0.-0.41421356j]]\n"
     ]
    }
   ],
   "source": [
    "print(np.round(delta_Malpha, 3))\n",
    "print(base.upper_matrix(delta_Malpha))\n"
   ]
  },
  {
   "cell_type": "code",
   "execution_count": 2,
   "metadata": {},
   "outputs": [],
   "source": [
    "Ts = []\n",
    "deltas = []\n",
    "thetas = []\n",
    "dim_d = 8  # int(len(lambdas)**2/4) - 1\n",
    "for i in range(0, dim_d):\n",
    "    theta = np.random.uniform(0, 2*np.pi)\n",
    "    delta = (base.calculate_Lambda_matrix(lambdas, theta) -\n",
    "             base.calculate_Lambda_matrix(lambdas, -theta))\n",
    "    thetas.append(theta)\n",
    "    deltas.append(delta)\n",
    "    Ts.append(base.upper_matrix(delta))\n"
   ]
  },
  {
   "cell_type": "code",
   "execution_count": 93,
   "metadata": {},
   "outputs": [],
   "source": [
    "Ts = []\n",
    "deltas = []\n",
    "thetas = [np.pi/4, 3*np.pi/4]\n",
    "dim_d = 2  # int(len(lambdas)**2/4) - 1\n",
    "for i in range(0, dim_d):\n",
    "    delta = (base.calculate_Lambda_matrix(\n",
    "        lambdas, thetas[i]) - base.calculate_Lambda_matrix(lambdas, -thetas[i]))\n",
    "    deltas.append(delta)\n",
    "    Ts.append(base.upper_matrix(delta))\n"
   ]
  },
  {
   "cell_type": "code",
   "execution_count": 3,
   "metadata": {},
   "outputs": [
    {
     "data": {
      "text/plain": [
       "array([[0.+0.00000000e+00j, 0.-2.19900459e-01j, 0.-2.40297202e-18j,\n",
       "        0.+4.41680948e-02j, 0.+1.86027831e-19j, 0.-1.47006500e-03j],\n",
       "       [0.+2.19900459e-01j, 0.+0.00000000e+00j, 0.-1.07316616e-01j,\n",
       "        0.+2.58449455e-18j, 0.+4.87204939e-03j, 0.-3.23438466e-20j],\n",
       "       [0.+2.40297202e-18j, 0.+1.07316616e-01j, 0.+0.00000000e+00j,\n",
       "        0.-2.15550730e-02j, 0.-3.75464378e-20j, 0.+7.17426426e-04j],\n",
       "       [0.-4.41680948e-02j, 0.-2.58449455e-18j, 0.+2.15550730e-02j,\n",
       "        0.+0.00000000e+00j, 0.-9.78575214e-04j, 0.-1.07812822e-20j],\n",
       "       [0.-1.86027831e-19j, 0.-4.87204939e-03j, 0.+3.75464378e-20j,\n",
       "        0.+9.78575214e-04j, 0.+0.00000000e+00j, 0.-3.25703244e-05j],\n",
       "       [0.+1.47006500e-03j, 0.+3.23438466e-20j, 0.-7.17426426e-04j,\n",
       "        0.+1.07812822e-20j, 0.+3.25703244e-05j, 0.+0.00000000e+00j]])"
      ]
     },
     "execution_count": 3,
     "metadata": {},
     "output_type": "execute_result"
    }
   ],
   "source": [
    "deltas[0]\n"
   ]
  },
  {
   "cell_type": "code",
   "execution_count": 4,
   "metadata": {},
   "outputs": [],
   "source": [
    "T = Ts[0]\n",
    "for i in range(1, len(Ts)):\n",
    "    T = np.hstack((T, Ts[i]))\n"
   ]
  },
  {
   "cell_type": "code",
   "execution_count": 5,
   "metadata": {},
   "outputs": [],
   "source": [
    "from scipy.linalg import null_space\n",
    "\n",
    "init_rcond = 1\n",
    "while True:\n",
    "    d = (null_space(T, rcond=init_rcond))\n",
    "    if d.shape[1] != 1:\n",
    "        init_rcond /= 10\n",
    "    else:\n",
    "        break\n"
   ]
  },
  {
   "cell_type": "code",
   "execution_count": 6,
   "metadata": {},
   "outputs": [
    {
     "data": {
      "text/plain": [
       "array([[ 0.23239407-0.j        ],\n",
       "       [ 0.33096666-0.31343884j],\n",
       "       [ 0.5029375 -0.08534404j],\n",
       "       [-0.25283961+0.04076971j],\n",
       "       [ 0.24482923-0.06925397j],\n",
       "       [-0.0987542 +0.16915642j],\n",
       "       [ 0.36941991-0.05838874j],\n",
       "       [ 0.35078611-0.21530309j]])"
      ]
     },
     "execution_count": 6,
     "metadata": {},
     "output_type": "execute_result"
    }
   ],
   "source": [
    "d\n"
   ]
  },
  {
   "cell_type": "code",
   "execution_count": 7,
   "metadata": {},
   "outputs": [
    {
     "data": {
      "text/plain": [
       "[4.6649932814646515,\n",
       " 4.961862889137803,\n",
       " 0.11643280295090416,\n",
       " 4.066874818612189,\n",
       " 1.9157607476229788,\n",
       " 5.014346703733119,\n",
       " 0.9976096238630942,\n",
       " 1.373780860507946]"
      ]
     },
     "execution_count": 7,
     "metadata": {},
     "output_type": "execute_result"
    }
   ],
   "source": [
    "thetas\n"
   ]
  },
  {
   "cell_type": "code",
   "execution_count": 8,
   "metadata": {},
   "outputs": [
    {
     "data": {
      "text/plain": [
       "array([[-6.54858112e-17-6.24500451e-17j],\n",
       "       [ 1.97866896e-18+1.84314369e-18j],\n",
       "       [ 9.71445147e-17+8.32667268e-17j],\n",
       "       [-3.74049750e-18-4.77048956e-18j],\n",
       "       [ 1.95156391e-17+1.90819582e-17j],\n",
       "       [-5.28548559e-19-9.75781955e-19j],\n",
       "       [ 7.04731412e-19+1.08420217e-18j],\n",
       "       [ 3.04931861e-20+7.45388994e-20j]])"
      ]
     },
     "execution_count": 8,
     "metadata": {},
     "output_type": "execute_result"
    }
   ],
   "source": [
    "T @ d\n"
   ]
  },
  {
   "cell_type": "code",
   "execution_count": 11,
   "metadata": {},
   "outputs": [
    {
     "name": "stdout",
     "output_type": "stream",
     "text": [
      "[[ 0.+0.j     0.-0.009j  0.-0.j    -0.-0.j    -0.+0.j     0.+0.j   ]\n",
      " [-0.+0.009j  0.+0.j    -0.+0.j     0.-0.j     0.-0.j     0.-0.j   ]\n",
      " [-0.+0.j     0.-0.j     0.+0.j    -0.+0.j     0.-0.j     0.-0.j   ]\n",
      " [ 0.+0.j    -0.+0.j     0.-0.j     0.+0.j    -0.+0.j    -0.+0.j   ]\n",
      " [ 0.-0.j    -0.+0.j    -0.+0.j     0.-0.j     0.+0.j    -0.+0.j   ]\n",
      " [-0.-0.j    -0.+0.j    -0.+0.j     0.-0.j     0.-0.j     0.+0.j   ]]\n"
     ]
    }
   ],
   "source": [
    "sumMatrix = d[0] * deltas[0]\n",
    "for i in range(1, len(Ts)):\n",
    "    sumMatrix += d[i] * deltas[i]\n",
    "print(np.round(sumMatrix, 3))\n"
   ]
  },
  {
   "cell_type": "markdown",
   "metadata": {},
   "source": [
    "Theo công thức phải chia thêm hệ số (2j)"
   ]
  },
  {
   "cell_type": "code",
   "execution_count": 113,
   "metadata": {},
   "outputs": [],
   "source": [
    "d_t = d / ((2j)*(-1.09+0.38j))\n"
   ]
  },
  {
   "cell_type": "code",
   "execution_count": 114,
   "metadata": {},
   "outputs": [
    {
     "data": {
      "text/plain": [
       "array([[ 0.42691009+1.76683978e-04j],\n",
       "       [-0.07324619-3.03141781e-05j]])"
      ]
     },
     "execution_count": 114,
     "metadata": {},
     "output_type": "execute_result"
    }
   ],
   "source": [
    "d_t\n"
   ]
  },
  {
   "cell_type": "markdown",
   "metadata": {},
   "source": [
    "d_t giống với kết quả của [Pennylane](https://docs.pennylane.ai/en/stable/code/api/pennylane.CRY.html)"
   ]
  },
  {
   "cell_type": "code",
   "execution_count": 115,
   "metadata": {},
   "outputs": [
    {
     "data": {
      "text/plain": [
       "-0.07322330470336313"
      ]
     },
     "execution_count": 115,
     "metadata": {},
     "output_type": "execute_result"
    }
   ],
   "source": [
    "(1 - np.sqrt(2)) / (4*np.sqrt(2))\n"
   ]
  },
  {
   "cell_type": "code",
   "execution_count": 91,
   "metadata": {},
   "outputs": [
    {
     "name": "stdout",
     "output_type": "stream",
     "text": [
      "[[ 0.+0.j    -1.+0.001j  0.+0.j   ]\n",
      " [ 1.-0.001j  0.+0.j     0.-0.j   ]\n",
      " [ 0.+0.j    -0.+0.j     0.+0.j   ]]\n"
     ]
    }
   ],
   "source": [
    "sumMatrix = d_t[0] * deltas[0]\n",
    "for i in range(1, len(Ts)):\n",
    "    sumMatrix += d_t[i] * deltas[i]\n",
    "print(np.round(sumMatrix, 3))\n"
   ]
  },
  {
   "cell_type": "code",
   "execution_count": 12,
   "metadata": {},
   "outputs": [
    {
     "name": "stdout",
     "output_type": "stream",
     "text": [
      "[[0.+0.00000000e+00j 0.-5.00000000e-01j 0.+0.00000000e+00j]\n",
      " [0.+5.00000000e-01j 0.+0.00000000e+00j 0.+5.55111512e-17j]\n",
      " [0.+0.00000000e+00j 0.-5.55111512e-17j 0.+0.00000000e+00j]]\n"
     ]
    }
   ],
   "source": [
    "alpha = np.pi / 4\n",
    "beta = 3*np.pi / 4\n",
    "lambdas = [-1, 0, 1]\n",
    "\n",
    "delta_Malpha = base.calculate_Lambda_matrix(\n",
    "    lambdas, alpha) - base.calculate_Lambda_matrix(lambdas, -alpha)\n",
    "delta_Mbeta = base.calculate_Lambda_matrix(\n",
    "    lambdas, beta) - base.calculate_Lambda_matrix(lambdas, -beta)\n",
    "\n",
    "d1 = (np.sqrt(2) + 1)/(4*np.sqrt(2))\n",
    "d2 = (-np.sqrt(2) + 1)/(4*np.sqrt(2))\n",
    "\n",
    "print(d1*delta_Malpha + d2*delta_Mbeta)\n"
   ]
  }
 ],
 "metadata": {
  "interpreter": {
   "hash": "b6314cf850edbae231b80224200c9e1580e03453e86236ed42ea1b49b1f8d2e3"
  },
  "kernelspec": {
   "display_name": "Python 3.8.0 64-bit",
   "language": "python",
   "name": "python3"
  },
  "language_info": {
   "codemirror_mode": {
    "name": "ipython",
    "version": 3
   },
   "file_extension": ".py",
   "mimetype": "text/x-python",
   "name": "python",
   "nbconvert_exporter": "python",
   "pygments_lexer": "ipython3",
   "version": "3.10.9"
  },
  "orig_nbformat": 4
 },
 "nbformat": 4,
 "nbformat_minor": 2
}
