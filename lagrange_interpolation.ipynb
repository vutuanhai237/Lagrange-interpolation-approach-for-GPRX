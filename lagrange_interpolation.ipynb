{
 "cells": [
  {
   "cell_type": "markdown",
   "metadata": {},
   "source": [
    "### Lagrange interpolation approach\n",
    "\n",
    "Consider gate $U(x) = e^{-ixG}$\n",
    "\n",
    "$G$ has $n$ distinguish eigenvalues $\\lambda_k, k=\\{0,1,...,n-1\\}$\n",
    "\n",
    "$e^{-i x \\boldsymbol{G}}=\\sum_{k=0}^{n-1} e^{-i x \\lambda_{k}} \\prod_{l=0, l \\neq k}^{n-1} \\frac{\\boldsymbol{G}-\\lambda_{l} \\boldsymbol{I}}{\\lambda_{k}-\\lambda_{l}} = f(\\boldsymbol{G})=\\Lambda_0 I + \\Lambda_1 G + ... + \\Lambda_{n-1} G^{n - 1}$\n",
    "\n",
    "#### 1. Calculate coeff ${\\Lambda_i}$ of a gate\n",
    "\n",
    "Here we treat $\\boldsymbol{G}$ as a variable. The input is only x and eigenvalues ${\\lambda_i}$"
   ]
  },
  {
   "cell_type": "code",
   "execution_count": 1,
   "metadata": {},
   "outputs": [
    {
     "name": "stdout",
     "output_type": "stream",
     "text": [
      "Lambda_i:  [(0.9501747372194234+1.214306433183765e-17j), (4.163336342344337e-17+1.5585811968653485j), (-1.0017346066809423+0j), (1.214306433183765e-17-0.5892556509887895j), (0.1178511301977579+3.469446951953614e-18j), (9.540979117872439e-18+0.04714045207910317j)]\n"
     ]
    }
   ],
   "source": [
    "import numpy as np\n",
    "import base\n",
    "# Input\n",
    "x = -np.pi / 2\n",
    "lambdas = [-5/2, -3/2, -1/2, 1/2, 3/2, 5/2]\n",
    "# Polynomial presentation\n",
    "fG = base.calculate_Lambda(lambdas, x)\n",
    "# Output\n",
    "print(\"Lambda_i: \", fG.coeff)"
   ]
  },
  {
   "cell_type": "markdown",
   "metadata": {},
   "source": [
    "#### 2. Using more term to correct parameter-shift rule"
   ]
  },
  {
   "cell_type": "code",
   "execution_count": 2,
   "metadata": {},
   "outputs": [],
   "source": [
    "alpha = np.pi / 4\n",
    "# beta = np.pi / 2\n",
    "# gamma = np.pi / 3\n",
    "lambdas = [-1, 0, 1]\n",
    "# lambdas = [-3/2, -1/2, 1/2, 3/2]\n",
    "# lambdas = [-2, -1, 0, 1, 2]\n",
    "# lambdas = [-3, -2, -1, 1, 2, 3]\n",
    "# lambdas = [-3, -2, -1, 0, 1, 2, 5]\n",
    "delta_Malpha = base.calculate_Lambda_matrix(lambdas, alpha) - base.calculate_Lambda_matrix(lambdas, -alpha)\n",
    "#delta_Mbeta = base.calculate_Lambda_matrix(lambdas, beta) - base.calculate_Lambda_matrix(lambdas, -beta)\n",
    "#delta_Mgamma = base.calculate_Lambda_matrix(lambdas, gamma) - base.calculate_Lambda_matrix(lambdas, -gamma)\n",
    "d1 = 1/2\n",
    "d2 = (-np.sqrt(2) + 1) / 4\n",
    "# T_alpha = upper_matrix(delta_Malpha)\n",
    "# T_beta = upper_matrix(delta_Mbeta)\n",
    "# T_gamma = upper_matrix(delta_Mgamma)\n"
   ]
  },
  {
   "cell_type": "code",
   "execution_count": 3,
   "metadata": {},
   "outputs": [
    {
     "name": "stdout",
     "output_type": "stream",
     "text": [
      "[[ 0.+0.j     0.-1.414j  0.+0.j   ]\n",
      " [ 0.+1.414j  0.+0.j    -0.-0.414j]\n",
      " [ 0.+0.j    -0.+0.414j  0.+0.j   ]]\n",
      "[[-0.-0.41421356j]]\n"
     ]
    }
   ],
   "source": [
    "print(np.round(delta_Malpha, 3))\n",
    "print(base.upper_matrix(delta_Malpha))"
   ]
  },
  {
   "cell_type": "code",
   "execution_count": 3,
   "metadata": {},
   "outputs": [],
   "source": [
    "Ts = []\n",
    "deltas = []\n",
    "thetas = []\n",
    "dim_d = 8 # int(len(lambdas)**2/4) - 1 \n",
    "for i in range(0, dim_d):\n",
    "    theta = np.random.uniform(0, 2*np.pi)\n",
    "    delta = (base.calculate_Lambda_matrix(lambdas, theta) - base.calculate_Lambda_matrix(lambdas, -theta))\n",
    "    thetas.append(theta)\n",
    "    deltas.append(delta)\n",
    "    Ts.append(base.upper_matrix(delta))"
   ]
  },
  {
   "cell_type": "code",
   "execution_count": 93,
   "metadata": {},
   "outputs": [],
   "source": [
    "Ts = []\n",
    "deltas = []\n",
    "thetas = [np.pi/4, 3*np.pi/4]\n",
    "dim_d = 2 # int(len(lambdas)**2/4) - 1 \n",
    "for i in range(0, dim_d):\n",
    "    delta = (base.calculate_Lambda_matrix(lambdas, thetas[i]) - base.calculate_Lambda_matrix(lambdas, -thetas[i]))\n",
    "    deltas.append(delta)\n",
    "    Ts.append(base.upper_matrix(delta))"
   ]
  },
  {
   "cell_type": "code",
   "execution_count": 4,
   "metadata": {},
   "outputs": [
    {
     "data": {
      "text/plain": [
       "array([[0.+0.00000000e+00j, 0.-5.46355511e-02j, 0.+1.95068957e-18j,\n",
       "        0.+4.40001528e-02j, 0.-2.71393464e-19j, 0.-5.86655241e-03j],\n",
       "       [0.+5.46355511e-02j, 0.+0.00000000e+00j, 0.-1.06839958e-01j,\n",
       "        0.+6.04239866e-18j, 0.+1.94250821e-02j, 0.+3.07196524e-19j],\n",
       "       [0.-1.95068957e-18j, 0.+1.06839958e-01j, 0.+0.00000000e+00j,\n",
       "        0.-8.60424096e-02j, 0.-1.62836079e-19j, 0.+1.14720580e-02j],\n",
       "       [0.-4.40001528e-02j, 0.-6.04239866e-18j, 0.+8.60424096e-02j,\n",
       "        0.+0.00000000e+00j, 0.-1.56437807e-02j, 0.-8.96206617e-19j],\n",
       "       [0.+2.71393464e-19j, 0.-1.94250821e-02j, 0.+1.62836079e-19j,\n",
       "        0.+1.56437807e-02j, 0.+0.00000000e+00j, 0.-2.08578956e-03j],\n",
       "       [0.+5.86655241e-03j, 0.-3.07196524e-19j, 0.-1.14720580e-02j,\n",
       "        0.+8.96206617e-19j, 0.+2.08578956e-03j, 0.+0.00000000e+00j]])"
      ]
     },
     "execution_count": 4,
     "metadata": {},
     "output_type": "execute_result"
    }
   ],
   "source": [
    "deltas[0]"
   ]
  },
  {
   "cell_type": "code",
   "execution_count": 6,
   "metadata": {},
   "outputs": [],
   "source": [
    "T = Ts[0]\n",
    "for i in range(1, len(Ts)):\n",
    "    T = np.hstack((T, Ts[i]))"
   ]
  },
  {
   "cell_type": "code",
   "execution_count": 7,
   "metadata": {},
   "outputs": [],
   "source": [
    "from scipy.linalg import null_space\n",
    "\n",
    "init_rcond = 1\n",
    "while True:\n",
    "    d = (null_space(T, rcond = init_rcond))\n",
    "    if d.shape[1] != 1:\n",
    "        init_rcond /= 10\n",
    "    else:\n",
    "        break"
   ]
  },
  {
   "cell_type": "code",
   "execution_count": 8,
   "metadata": {},
   "outputs": [
    {
     "data": {
      "text/plain": [
       "array([[-0.90685992-0.j        ],\n",
       "       [-0.21133997-0.06283005j],\n",
       "       [-0.20903059-0.0433079j ],\n",
       "       [-0.02031613+0.04260863j],\n",
       "       [ 0.04537332-0.15032986j],\n",
       "       [-0.07713104+0.04085243j],\n",
       "       [ 0.01210504+0.21342936j],\n",
       "       [ 0.05520491-0.01315893j]])"
      ]
     },
     "execution_count": 8,
     "metadata": {},
     "output_type": "execute_result"
    }
   ],
   "source": [
    "d"
   ]
  },
  {
   "cell_type": "code",
   "execution_count": 9,
   "metadata": {},
   "outputs": [
    {
     "data": {
      "text/plain": [
       "[3.1298582023463513,\n",
       " 4.3613686933384415,\n",
       " 1.9659784833110965,\n",
       " 4.830868311014382,\n",
       " 2.8400820540315936,\n",
       " 1.2211069784243804,\n",
       " 2.9504379691722784,\n",
       " 0.9880655511826192]"
      ]
     },
     "execution_count": 9,
     "metadata": {},
     "output_type": "execute_result"
    }
   ],
   "source": [
    "thetas"
   ]
  },
  {
   "cell_type": "code",
   "execution_count": 10,
   "metadata": {},
   "outputs": [
    {
     "data": {
      "text/plain": [
       "array([[ 2.77555756e-17-2.77555756e-16j],\n",
       "       [ 6.93889390e-18+2.08166817e-17j],\n",
       "       [-1.94289029e-16+2.22044605e-16j],\n",
       "       [ 3.46944695e-17-8.32667268e-17j],\n",
       "       [-8.32667268e-17+2.77555756e-16j],\n",
       "       [ 1.73472348e-17-3.46944695e-17j],\n",
       "       [-2.42861287e-17+2.77555756e-17j],\n",
       "       [-5.20417043e-18+1.12757026e-17j]])"
      ]
     },
     "execution_count": 10,
     "metadata": {},
     "output_type": "execute_result"
    }
   ],
   "source": [
    "T @ d"
   ]
  },
  {
   "cell_type": "code",
   "execution_count": 11,
   "metadata": {},
   "outputs": [
    {
     "name": "stdout",
     "output_type": "stream",
     "text": [
      "[[ 0.+0.j     0.-0.009j  0.-0.j    -0.-0.j    -0.+0.j     0.+0.j   ]\n",
      " [-0.+0.009j  0.+0.j    -0.+0.j     0.-0.j     0.-0.j     0.-0.j   ]\n",
      " [-0.+0.j     0.-0.j     0.+0.j    -0.+0.j     0.-0.j     0.-0.j   ]\n",
      " [ 0.+0.j    -0.+0.j     0.-0.j     0.+0.j    -0.+0.j    -0.+0.j   ]\n",
      " [ 0.-0.j    -0.+0.j    -0.+0.j     0.-0.j     0.+0.j    -0.+0.j   ]\n",
      " [-0.-0.j    -0.+0.j    -0.+0.j     0.-0.j     0.-0.j     0.+0.j   ]]\n"
     ]
    }
   ],
   "source": [
    "sumMatrix = d[0] * deltas[0]\n",
    "for i in range(1, len(Ts)):\n",
    "    sumMatrix += d[i] * deltas[i]\n",
    "print(np.round(sumMatrix, 3))"
   ]
  },
  {
   "cell_type": "markdown",
   "metadata": {},
   "source": [
    "Theo công thức phải chia thêm hệ số (2j)"
   ]
  },
  {
   "cell_type": "code",
   "execution_count": 113,
   "metadata": {},
   "outputs": [],
   "source": [
    "d_t = d / ((2j)*(-1.09+0.38j))"
   ]
  },
  {
   "cell_type": "code",
   "execution_count": 114,
   "metadata": {},
   "outputs": [
    {
     "data": {
      "text/plain": [
       "array([[ 0.42691009+1.76683978e-04j],\n",
       "       [-0.07324619-3.03141781e-05j]])"
      ]
     },
     "execution_count": 114,
     "metadata": {},
     "output_type": "execute_result"
    }
   ],
   "source": [
    "d_t"
   ]
  },
  {
   "cell_type": "markdown",
   "metadata": {},
   "source": [
    "d_t giống với kết quả của [Pennylane](https://docs.pennylane.ai/en/stable/code/api/pennylane.CRY.html)"
   ]
  },
  {
   "cell_type": "code",
   "execution_count": 115,
   "metadata": {},
   "outputs": [
    {
     "data": {
      "text/plain": [
       "-0.07322330470336313"
      ]
     },
     "execution_count": 115,
     "metadata": {},
     "output_type": "execute_result"
    }
   ],
   "source": [
    "(1 - np.sqrt(2)) / (4*np.sqrt(2))"
   ]
  },
  {
   "cell_type": "code",
   "execution_count": 91,
   "metadata": {},
   "outputs": [
    {
     "name": "stdout",
     "output_type": "stream",
     "text": [
      "[[ 0.+0.j    -1.+0.001j  0.+0.j   ]\n",
      " [ 1.-0.001j  0.+0.j     0.-0.j   ]\n",
      " [ 0.+0.j    -0.+0.j     0.+0.j   ]]\n"
     ]
    }
   ],
   "source": [
    "sumMatrix = d_t[0] * deltas[0]\n",
    "for i in range(1, len(Ts)):\n",
    "    sumMatrix += d_t[i] * deltas[i]\n",
    "print(np.round(sumMatrix, 3))"
   ]
  },
  {
   "cell_type": "code",
   "execution_count": 12,
   "metadata": {},
   "outputs": [
    {
     "name": "stdout",
     "output_type": "stream",
     "text": [
      "[[0.+0.00000000e+00j 0.-5.00000000e-01j 0.+0.00000000e+00j]\n",
      " [0.+5.00000000e-01j 0.+0.00000000e+00j 0.+5.55111512e-17j]\n",
      " [0.+0.00000000e+00j 0.-5.55111512e-17j 0.+0.00000000e+00j]]\n"
     ]
    }
   ],
   "source": [
    "alpha = np.pi / 4\n",
    "beta = 3*np.pi / 4\n",
    "lambdas = [-1, 0, 1]\n",
    "\n",
    "delta_Malpha = base.calculate_Lambda_matrix(lambdas, alpha) - base.calculate_Lambda_matrix(lambdas, -alpha)\n",
    "delta_Mbeta = base.calculate_Lambda_matrix(lambdas, beta) - base.calculate_Lambda_matrix(lambdas, -beta)\n",
    "\n",
    "d1 = (np.sqrt(2) + 1)/(4*np.sqrt(2))\n",
    "d2 = (-np.sqrt(2) + 1)/(4*np.sqrt(2))\n",
    "\n",
    "print(d1*delta_Malpha + d2*delta_Mbeta)"
   ]
  }
 ],
 "metadata": {
  "interpreter": {
   "hash": "b6314cf850edbae231b80224200c9e1580e03453e86236ed42ea1b49b1f8d2e3"
  },
  "kernelspec": {
   "display_name": "Python 3.8.0 64-bit",
   "language": "python",
   "name": "python3"
  },
  "language_info": {
   "codemirror_mode": {
    "name": "ipython",
    "version": 3
   },
   "file_extension": ".py",
   "mimetype": "text/x-python",
   "name": "python",
   "nbconvert_exporter": "python",
   "pygments_lexer": "ipython3",
   "version": "3.8.0"
  },
  "orig_nbformat": 4
 },
 "nbformat": 4,
 "nbformat_minor": 2
}
