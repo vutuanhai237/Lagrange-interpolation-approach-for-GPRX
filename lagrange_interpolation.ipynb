{
 "cells": [
  {
   "cell_type": "markdown",
   "metadata": {},
   "source": [
    "### Lagrange interpolation approach\n",
    "\n",
    "Consider gate $U(x) = e^{-ixG}$\n",
    "\n",
    "$G$ has $n$ distinguish eigenvalues $\\lambda_k, k=\\{0,1,...,n-1\\}$\n",
    "\n",
    "$e^{-i x \\boldsymbol{G}}=\\sum_{k=0}^{n-1} e^{-i x \\lambda_{k}} \\prod_{l=0, l \\neq k}^{n-1} \\frac{\\boldsymbol{G}-\\lambda_{l} \\boldsymbol{I}}{\\lambda_{k}-\\lambda_{l}} = f(\\boldsymbol{G})=\\Lambda_0 I + \\Lambda_1 G + ... + \\Lambda_{n-1} G^{n - 1}$\n",
    "\n",
    "#### 1. Calculate coeff ${\\Lambda_i}$ of a gate\n",
    "\n",
    "Here we treat $\\boldsymbol{G}$ as a variable. The input is only x and eigenvalues ${\\lambda_i}$"
   ]
  },
  {
   "cell_type": "code",
   "execution_count": 24,
   "metadata": {},
   "outputs": [
    {
     "name": "stdout",
     "output_type": "stream",
     "text": [
      "Lambda_i:  [(1+0j), 1j, (-1+0j)]\n"
     ]
    }
   ],
   "source": [
    "import numpy as np\n",
    "import base\n",
    "# Input\n",
    "x = -np.pi / 2\n",
    "lambdas = [-1, 0, 1]\n",
    "# Polynomial presentation\n",
    "fG = base.calculate_Lambda(lambdas, x)\n",
    "# Output\n",
    "print(\"Lambda_i: \", fG.coeff)"
   ]
  },
  {
   "cell_type": "markdown",
   "metadata": {},
   "source": [
    "#### 2. Using more term to correct parameter-shift rule"
   ]
  },
  {
   "cell_type": "code",
   "execution_count": 38,
   "metadata": {},
   "outputs": [],
   "source": [
    "alpha = np.pi / 4\n",
    "# beta = np.pi / 2\n",
    "# gamma = np.pi / 3\n",
    "# lambdas = [-1, 0, 1]\n",
    "lambdas = [-3/2, -1/2, 1/2, 3/2]\n",
    "# lambdas = [-2, -1, 0, 1, 2]\n",
    "# lambdas = [-3, -2, -1, 1, 2, 3]\n",
    "# lambdas = [-3, -2, -1, 0, 1, 2, 5]\n",
    "\n",
    "delta_Malpha = base.calculate_Lambda_matrix(lambdas, alpha) - base.calculate_Lambda_matrix(lambdas, -alpha)\n",
    "#delta_Mbeta = base.calculate_Lambda_matrix(lambdas, beta) - base.calculate_Lambda_matrix(lambdas, -beta)\n",
    "#delta_Mgamma = base.calculate_Lambda_matrix(lambdas, gamma) - base.calculate_Lambda_matrix(lambdas, -gamma)\n",
    "\n",
    "d1 = 1/2\n",
    "d2 = (-np.sqrt(2) + 1) / 4\n",
    "\n",
    "# T_alpha = upper_matrix(delta_Malpha)\n",
    "# T_beta = upper_matrix(delta_Mbeta)\n",
    "# T_gamma = upper_matrix(delta_Mgamma)\n"
   ]
  },
  {
   "cell_type": "code",
   "execution_count": 26,
   "metadata": {},
   "outputs": [
    {
     "name": "stdout",
     "output_type": "stream",
     "text": [
      "[[0.+0.j    0.-1.555j 0.+0.j    0.+0.148j]\n",
      " [0.+1.555j 0.+0.j    0.-0.424j 0.-0.j   ]\n",
      " [0.-0.j    0.+0.424j 0.+0.j    0.-0.04j ]\n",
      " [0.-0.148j 0.+0.j    0.+0.04j  0.+0.j   ]]\n",
      "[[0.+0.14818122j]\n",
      " [0.-0.42432359j]\n",
      " [0.-0.04044011j]]\n"
     ]
    }
   ],
   "source": [
    "print(np.round(delta_Malpha, 3))\n",
    "print(base.upper_matrix(delta_Malpha))"
   ]
  },
  {
   "cell_type": "code",
   "execution_count": 39,
   "metadata": {},
   "outputs": [],
   "source": [
    "Ts = []\n",
    "deltas = []\n",
    "thetas = []\n",
    "dim_d = int(len(lambdas)**2/4) - 1\n",
    "for i in range(0, dim_d):\n",
    "    theta = np.random.uniform(0, 2*np.pi)\n",
    "    delta = (base.calculate_Lambda_matrix(lambdas, theta) - base.calculate_Lambda_matrix(lambdas, -theta))\n",
    "    thetas.append(theta)\n",
    "    deltas.append(delta)\n",
    "    Ts.append(base.upper_matrix(delta))"
   ]
  },
  {
   "cell_type": "code",
   "execution_count": 40,
   "metadata": {},
   "outputs": [],
   "source": [
    "T = Ts[0]\n",
    "for i in range(1, len(Ts)):\n",
    "    T = np.hstack((T, Ts[i]))"
   ]
  },
  {
   "cell_type": "code",
   "execution_count": 41,
   "metadata": {},
   "outputs": [],
   "source": [
    "from scipy.linalg import null_space\n",
    "\n",
    "init_rcond = 1\n",
    "while True:\n",
    "    \n",
    "    d = (null_space(T, rcond = init_rcond))\n",
    "    if d.shape[1] != 1:\n",
    "        init_rcond /= 10\n",
    "    else:\n",
    "        break"
   ]
  },
  {
   "cell_type": "code",
   "execution_count": 42,
   "metadata": {},
   "outputs": [
    {
     "data": {
      "text/plain": [
       "array([[-0.04818201-0.00000000e+00j],\n",
       "       [ 0.99841239-1.35680693e-16j],\n",
       "       [ 0.02917519-2.63663677e-18j]])"
      ]
     },
     "execution_count": 42,
     "metadata": {},
     "output_type": "execute_result"
    }
   ],
   "source": [
    "d"
   ]
  },
  {
   "cell_type": "code",
   "execution_count": 43,
   "metadata": {},
   "outputs": [
    {
     "data": {
      "text/plain": [
       "[2.867109188344665, 5.996854266116721, 1.947681436287224]"
      ]
     },
     "execution_count": 43,
     "metadata": {},
     "output_type": "execute_result"
    }
   ],
   "source": [
    "thetas"
   ]
  },
  {
   "cell_type": "code",
   "execution_count": 44,
   "metadata": {},
   "outputs": [
    {
     "data": {
      "text/plain": [
       "array([[ 1.94987318e-18-3.53883589e-16j],\n",
       "       [-4.34141601e-18+8.18789481e-16j],\n",
       "       [-3.01640707e-18+4.44089210e-16j]])"
      ]
     },
     "execution_count": 44,
     "metadata": {},
     "output_type": "execute_result"
    }
   ],
   "source": [
    "T @ d"
   ]
  },
  {
   "cell_type": "code",
   "execution_count": 33,
   "metadata": {},
   "outputs": [
    {
     "name": "stdout",
     "output_type": "stream",
     "text": [
      "[[ 0.+0.j     0.+0.015j -0.+0.j     0.-0.j   ]\n",
      " [-0.-0.015j  0.+0.j     0.+0.j    -0.-0.j   ]\n",
      " [ 0.-0.j    -0.-0.j     0.+0.j    -0.+0.j   ]\n",
      " [-0.+0.j     0.+0.j     0.-0.j     0.+0.j   ]]\n"
     ]
    }
   ],
   "source": [
    "sumMatrix = d[0] * deltas[0]\n",
    "\n",
    "for i in range(1, len(Ts)):\n",
    "    sumMatrix += d[i] * deltas[i]\n",
    "print(np.round(sumMatrix, 3))"
   ]
  },
  {
   "cell_type": "code",
   "execution_count": 12,
   "metadata": {},
   "outputs": [
    {
     "name": "stdout",
     "output_type": "stream",
     "text": [
      "[[0.+0.00000000e+00j 0.-5.00000000e-01j 0.+0.00000000e+00j]\n",
      " [0.+5.00000000e-01j 0.+0.00000000e+00j 0.+5.55111512e-17j]\n",
      " [0.+0.00000000e+00j 0.-5.55111512e-17j 0.+0.00000000e+00j]]\n"
     ]
    }
   ],
   "source": [
    "alpha = np.pi / 4\n",
    "beta = 3*np.pi / 4\n",
    "lambdas = [-1, 0, 1]\n",
    "\n",
    "delta_Malpha = base.calculate_Lambda_matrix(lambdas, alpha) - base.calculate_Lambda_matrix(lambdas, -alpha)\n",
    "delta_Mbeta = base.calculate_Lambda_matrix(lambdas, beta) - base.calculate_Lambda_matrix(lambdas, -beta)\n",
    "\n",
    "d1 = (np.sqrt(2) + 1)/(4*np.sqrt(2))\n",
    "d2 = (-np.sqrt(2) + 1)/(4*np.sqrt(2))\n",
    "\n",
    "print(d1*delta_Malpha + d2*delta_Mbeta)"
   ]
  }
 ],
 "metadata": {
  "interpreter": {
   "hash": "b6314cf850edbae231b80224200c9e1580e03453e86236ed42ea1b49b1f8d2e3"
  },
  "kernelspec": {
   "display_name": "Python 3.8.0 64-bit",
   "language": "python",
   "name": "python3"
  },
  "language_info": {
   "codemirror_mode": {
    "name": "ipython",
    "version": 3
   },
   "file_extension": ".py",
   "mimetype": "text/x-python",
   "name": "python",
   "nbconvert_exporter": "python",
   "pygments_lexer": "ipython3",
   "version": "3.8.0"
  },
  "orig_nbformat": 4
 },
 "nbformat": 4,
 "nbformat_minor": 2
}
