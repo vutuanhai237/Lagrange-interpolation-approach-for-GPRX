{
 "cells": [
  {
   "cell_type": "markdown",
   "metadata": {},
   "source": [
    "### Lagrange interpolation approach\n",
    "\n",
    "Consider gate $U(x) = e^{-ixG}$\n",
    "\n",
    "$G$ has $n$ distinguish eigenvalues $\\lambda_k, k=\\{0,1,...,n-1\\}$\n",
    "\n",
    "$e^{-i x \\boldsymbol{G}}=\\sum_{k=0}^{n-1} e^{-i x \\lambda_{k}} \\prod_{l=0, l \\neq k}^{n-1} \\frac{\\boldsymbol{G}-\\lambda_{l} \\boldsymbol{I}}{\\lambda_{k}-\\lambda_{l}} = f(\\boldsymbol{G})=\\Lambda_0 I + \\Lambda_1 G + ... + \\Lambda_{n-1} G^{n - 1}$\n",
    "\n",
    "#### 1. Calculate coeff ${\\Lambda_i}$ of a gate\n",
    "\n",
    "Here we treat $\\boldsymbol{G}$ as a variable. The input is only x and eigenvalues ${\\lambda_i}$"
   ]
  },
  {
   "cell_type": "code",
   "execution_count": 1,
   "metadata": {},
   "outputs": [
    {
     "name": "stdout",
     "output_type": "stream",
     "text": [
      "Lambda_i:  [(1+0j), 1j, (-1+0j)]\n"
     ]
    }
   ],
   "source": [
    "import numpy as np\n",
    "import base\n",
    "# Input\n",
    "x = -np.pi / 2\n",
    "lambdas = [-1, 0, 1]\n",
    "# Polynomial presentation\n",
    "fG = base.calculate_Lambda(lambdas, x)\n",
    "# Output\n",
    "print(\"Lambda_i: \", fG.coeff)"
   ]
  },
  {
   "cell_type": "markdown",
   "metadata": {},
   "source": [
    "#### 2. Using more term to correct parameter-shift rule"
   ]
  },
  {
   "cell_type": "code",
   "execution_count": 2,
   "metadata": {},
   "outputs": [],
   "source": [
    "alpha = np.pi / 4\n",
    "# beta = np.pi / 2\n",
    "# gamma = np.pi / 3\n",
    "lambdas = [-1, 0, 1]\n",
    "# lambdas = [-3/2, -1/2, 1/2, 3/2]\n",
    "# lambdas = [-2, -1, 0, 1, 2]\n",
    "# lambdas = [-3, -2, -1, 1, 2, 3]\n",
    "# lambdas = [-3, -2, -1, 0, 1, 2, 5]\n",
    "delta_Malpha = base.calculate_Lambda_matrix(lambdas, alpha) - base.calculate_Lambda_matrix(lambdas, -alpha)\n",
    "#delta_Mbeta = base.calculate_Lambda_matrix(lambdas, beta) - base.calculate_Lambda_matrix(lambdas, -beta)\n",
    "#delta_Mgamma = base.calculate_Lambda_matrix(lambdas, gamma) - base.calculate_Lambda_matrix(lambdas, -gamma)\n",
    "d1 = 1/2\n",
    "d2 = (-np.sqrt(2) + 1) / 4\n",
    "# T_alpha = upper_matrix(delta_Malpha)\n",
    "# T_beta = upper_matrix(delta_Mbeta)\n",
    "# T_gamma = upper_matrix(delta_Mgamma)\n"
   ]
  },
  {
   "cell_type": "code",
   "execution_count": 3,
   "metadata": {},
   "outputs": [
    {
     "name": "stdout",
     "output_type": "stream",
     "text": [
      "[[ 0.+0.j     0.-1.414j  0.+0.j   ]\n",
      " [ 0.+1.414j  0.+0.j    -0.-0.414j]\n",
      " [ 0.+0.j    -0.+0.414j  0.+0.j   ]]\n",
      "[[-0.-0.41421356j]]\n"
     ]
    }
   ],
   "source": [
    "print(np.round(delta_Malpha, 3))\n",
    "print(base.upper_matrix(delta_Malpha))"
   ]
  },
  {
   "cell_type": "code",
   "execution_count": 12,
   "metadata": {},
   "outputs": [],
   "source": [
    "Ts = []\n",
    "deltas = []\n",
    "thetas = [np.pi/2, np.pi]\n",
    "dim_d = 2 # int(len(lambdas)**2/4) - 1 \n",
    "for i in range(0, dim_d):\n",
    "    theta = np.random.uniform(0, 2*np.pi)\n",
    "    delta = (base.calculate_Lambda_matrix(lambdas, theta) - base.calculate_Lambda_matrix(lambdas, -theta))\n",
    "    thetas.append(theta)\n",
    "    deltas.append(delta)\n",
    "    Ts.append(base.upper_matrix(delta))"
   ]
  },
  {
   "cell_type": "code",
   "execution_count": 93,
   "metadata": {},
   "outputs": [],
   "source": [
    "Ts = []\n",
    "deltas = []\n",
    "thetas = [np.pi/4, 3*np.pi/4]\n",
    "dim_d = 2 # int(len(lambdas)**2/4) - 1 \n",
    "for i in range(0, dim_d):\n",
    "    delta = (base.calculate_Lambda_matrix(lambdas, thetas[i]) - base.calculate_Lambda_matrix(lambdas, -thetas[i]))\n",
    "    deltas.append(delta)\n",
    "    Ts.append(base.upper_matrix(delta))"
   ]
  },
  {
   "cell_type": "code",
   "execution_count": 94,
   "metadata": {},
   "outputs": [
    {
     "data": {
      "text/plain": [
       "array([[ 0.+0.j        ,  0.-1.41421356j,  0.+0.j        ],\n",
       "       [ 0.+1.41421356j,  0.+0.j        , -0.-0.41421356j],\n",
       "       [ 0.+0.j        , -0.+0.41421356j,  0.+0.j        ]])"
      ]
     },
     "execution_count": 94,
     "metadata": {},
     "output_type": "execute_result"
    }
   ],
   "source": [
    "deltas[0]"
   ]
  },
  {
   "cell_type": "code",
   "execution_count": 95,
   "metadata": {},
   "outputs": [
    {
     "data": {
      "text/plain": [
       "array([[ 0.+0.j        ,  0.-1.41421356j,  0.+0.j        ],\n",
       "       [ 0.+1.41421356j,  0.+0.j        , -0.-2.41421356j],\n",
       "       [ 0.+0.j        , -0.+2.41421356j,  0.+0.j        ]])"
      ]
     },
     "execution_count": 95,
     "metadata": {},
     "output_type": "execute_result"
    }
   ],
   "source": [
    "deltas[1]"
   ]
  },
  {
   "cell_type": "code",
   "execution_count": 96,
   "metadata": {},
   "outputs": [],
   "source": [
    "T = Ts[0]\n",
    "for i in range(1, len(Ts)):\n",
    "    T = np.hstack((T, Ts[i]))"
   ]
  },
  {
   "cell_type": "code",
   "execution_count": 97,
   "metadata": {},
   "outputs": [],
   "source": [
    "from scipy.linalg import null_space\n",
    "\n",
    "init_rcond = 1\n",
    "while True:\n",
    "    d = (null_space(T, rcond = init_rcond))\n",
    "    if d.shape[1] != 1:\n",
    "        init_rcond /= 10\n",
    "    else:\n",
    "        break"
   ]
  },
  {
   "cell_type": "code",
   "execution_count": 98,
   "metadata": {},
   "outputs": [
    {
     "data": {
      "text/plain": [
       "array([[-0.3240665 -0.93079827j],\n",
       "       [ 0.05560102+0.15969974j]])"
      ]
     },
     "execution_count": 98,
     "metadata": {},
     "output_type": "execute_result"
    }
   ],
   "source": [
    "d"
   ]
  },
  {
   "cell_type": "code",
   "execution_count": 99,
   "metadata": {},
   "outputs": [
    {
     "data": {
      "text/plain": [
       "[0.7853981633974483, 2.356194490192345]"
      ]
     },
     "execution_count": 99,
     "metadata": {},
     "output_type": "execute_result"
    }
   ],
   "source": [
    "thetas"
   ]
  },
  {
   "cell_type": "code",
   "execution_count": 100,
   "metadata": {},
   "outputs": [
    {
     "data": {
      "text/plain": [
       "array([[0.+4.71844785e-16j]])"
      ]
     },
     "execution_count": 100,
     "metadata": {},
     "output_type": "execute_result"
    }
   ],
   "source": [
    "T @ d"
   ]
  },
  {
   "cell_type": "code",
   "execution_count": 101,
   "metadata": {},
   "outputs": [
    {
     "name": "stdout",
     "output_type": "stream",
     "text": [
      "[[ 0.  +0.j   -1.09+0.38j  0.  +0.j  ]\n",
      " [ 1.09-0.38j  0.  +0.j    0.  +0.j  ]\n",
      " [ 0.  +0.j    0.  -0.j    0.  +0.j  ]]\n"
     ]
    }
   ],
   "source": [
    "sumMatrix = d[0] * deltas[0]\n",
    "for i in range(1, len(Ts)):\n",
    "    sumMatrix += d[i] * deltas[i]\n",
    "print(np.round(sumMatrix, 3))"
   ]
  },
  {
   "cell_type": "markdown",
   "metadata": {},
   "source": [
    "Theo công thức phải chia thêm hệ số (2j)"
   ]
  },
  {
   "cell_type": "code",
   "execution_count": 113,
   "metadata": {},
   "outputs": [],
   "source": [
    "d_t = d / ((2j)*(-1.09+0.38j))"
   ]
  },
  {
   "cell_type": "code",
   "execution_count": 114,
   "metadata": {},
   "outputs": [
    {
     "data": {
      "text/plain": [
       "array([[ 0.42691009+1.76683978e-04j],\n",
       "       [-0.07324619-3.03141781e-05j]])"
      ]
     },
     "execution_count": 114,
     "metadata": {},
     "output_type": "execute_result"
    }
   ],
   "source": [
    "d_t"
   ]
  },
  {
   "cell_type": "markdown",
   "metadata": {},
   "source": [
    "d_t giống với kết quả của [Pennylane](https://docs.pennylane.ai/en/stable/code/api/pennylane.CRY.html)"
   ]
  },
  {
   "cell_type": "code",
   "execution_count": 115,
   "metadata": {},
   "outputs": [
    {
     "data": {
      "text/plain": [
       "-0.07322330470336313"
      ]
     },
     "execution_count": 115,
     "metadata": {},
     "output_type": "execute_result"
    }
   ],
   "source": [
    "(1 - np.sqrt(2)) / (4*np.sqrt(2))"
   ]
  },
  {
   "cell_type": "code",
   "execution_count": 91,
   "metadata": {},
   "outputs": [
    {
     "name": "stdout",
     "output_type": "stream",
     "text": [
      "[[ 0.+0.j    -1.+0.001j  0.+0.j   ]\n",
      " [ 1.-0.001j  0.+0.j     0.-0.j   ]\n",
      " [ 0.+0.j    -0.+0.j     0.+0.j   ]]\n"
     ]
    }
   ],
   "source": [
    "sumMatrix = d_t[0] * deltas[0]\n",
    "for i in range(1, len(Ts)):\n",
    "    sumMatrix += d_t[i] * deltas[i]\n",
    "print(np.round(sumMatrix, 3))"
   ]
  },
  {
   "cell_type": "code",
   "execution_count": 12,
   "metadata": {},
   "outputs": [
    {
     "name": "stdout",
     "output_type": "stream",
     "text": [
      "[[0.+0.00000000e+00j 0.-5.00000000e-01j 0.+0.00000000e+00j]\n",
      " [0.+5.00000000e-01j 0.+0.00000000e+00j 0.+5.55111512e-17j]\n",
      " [0.+0.00000000e+00j 0.-5.55111512e-17j 0.+0.00000000e+00j]]\n"
     ]
    }
   ],
   "source": [
    "alpha = np.pi / 4\n",
    "beta = 3*np.pi / 4\n",
    "lambdas = [-1, 0, 1]\n",
    "\n",
    "delta_Malpha = base.calculate_Lambda_matrix(lambdas, alpha) - base.calculate_Lambda_matrix(lambdas, -alpha)\n",
    "delta_Mbeta = base.calculate_Lambda_matrix(lambdas, beta) - base.calculate_Lambda_matrix(lambdas, -beta)\n",
    "\n",
    "d1 = (np.sqrt(2) + 1)/(4*np.sqrt(2))\n",
    "d2 = (-np.sqrt(2) + 1)/(4*np.sqrt(2))\n",
    "\n",
    "print(d1*delta_Malpha + d2*delta_Mbeta)"
   ]
  }
 ],
 "metadata": {
  "interpreter": {
   "hash": "b6314cf850edbae231b80224200c9e1580e03453e86236ed42ea1b49b1f8d2e3"
  },
  "kernelspec": {
   "display_name": "Python 3.8.0 64-bit",
   "language": "python",
   "name": "python3"
  },
  "language_info": {
   "codemirror_mode": {
    "name": "ipython",
    "version": 3
   },
   "file_extension": ".py",
   "mimetype": "text/x-python",
   "name": "python",
   "nbconvert_exporter": "python",
   "pygments_lexer": "ipython3",
   "version": "3.8.0"
  },
  "orig_nbformat": 4
 },
 "nbformat": 4,
 "nbformat_minor": 2
}
