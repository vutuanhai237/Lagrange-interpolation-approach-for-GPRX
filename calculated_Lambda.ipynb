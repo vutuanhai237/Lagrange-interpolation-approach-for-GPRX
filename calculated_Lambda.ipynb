{
 "cells": [
  {
   "cell_type": "code",
   "execution_count": 77,
   "metadata": {},
   "outputs": [
    {
     "name": "stdout",
     "output_type": "stream",
     "text": [
      "[(1+0j), 1j, (-1+0j)]\n"
     ]
    }
   ],
   "source": [
    "import numpy as np\n",
    "from polynomial import Polymonial, multiXPoly, addXPoly\n",
    "\n",
    "def calculate_Lambda(lambdas, alpha):\n",
    "    # Begin algorithm 1\n",
    "    R = len(lambdas)\n",
    "    Ss = []\n",
    "    for k in range(0, R):\n",
    "        P = np.exp(-1j * alpha * lambdas[k])\n",
    "        Vs = []\n",
    "        for l in range(0, R):\n",
    "            if l != k: \n",
    "                P = P / (lambdas[k] - lambdas[l])\n",
    "                Vs.append(Polymonial([-lambdas[l], 1]))\n",
    "        V = multiXPoly(Vs)\n",
    "        Ss.append(V.multiX(P))\n",
    "    S = addXPoly(Ss)\n",
    "    return S\n",
    "def calculate_M(lambdas, alpha):\n",
    "    # This return Lambda_0, Lambda_1, ...\n",
    "    Lambdas = calculate_Lambda(lambdas, alpha).coeff\n",
    "    M = np.zeros([len(Lambdas), len(Lambdas)], dtype = np.complex128)\n",
    "    for i in range(0, len(Lambdas)):\n",
    "        for j in range(0, len(Lambdas)):\n",
    "            M[i, j] = np.conjugate(Lambdas[i]) * Lambdas[j]\n",
    "    return M\n",
    "alpha = -np.pi / 2\n",
    "lambdas = [-1, 0, 1]\n",
    "S = calculate_Lambda(lambdas, alpha)\n",
    "print(S.coeff)"
   ]
  },
  {
   "cell_type": "code",
   "execution_count": 83,
   "metadata": {},
   "outputs": [],
   "source": [
    "def check_symmetric(a, rtol=1e-05, atol=1e-08):\n",
    "    return np.allclose(a, np.conjugate(a.T), rtol=rtol, atol=atol)"
   ]
  },
  {
   "cell_type": "code",
   "execution_count": 86,
   "metadata": {},
   "outputs": [
    {
     "name": "stdout",
     "output_type": "stream",
     "text": [
      "[[0.+0.00000000e+00j 0.-4.96949029e-01j 0.+2.53334006e-17j\n",
      "  0.-1.22038841e-02j]\n",
      " [0.+4.96949029e-01j 0.+0.00000000e+00j 0.+1.22038841e-02j\n",
      "  0.-3.51218198e-18j]\n",
      " [0.-2.53334006e-17j 0.-1.22038841e-02j 0.+0.00000000e+00j\n",
      "  0.+4.88155365e-02j]\n",
      " [0.+1.22038841e-02j 0.+3.51218198e-18j 0.-4.88155365e-02j\n",
      "  0.+0.00000000e+00j]]\n",
      "True\n"
     ]
    }
   ],
   "source": [
    "alpha = np.pi / 4\n",
    "beta = np.pi / 2\n",
    "#lambdas = [-1, 0, 1]\n",
    "lambdas = [-3/2, -1/2, 1/2, 3/2]\n",
    "delta_Malpha = calculate_M(lambdas, alpha) - calculate_M(lambdas, -alpha)\n",
    "delta_Mbeta = calculate_M(lambdas, beta) - calculate_M(lambdas, -beta)\n",
    "\n",
    "d1 = 1/2\n",
    "d2 = (-np.sqrt(2) + 1) / 4\n",
    "\n",
    "M = d1*delta_Malpha + d2*delta_Mbeta\n",
    "print(M)\n",
    "print(check_symmetric(M))"
   ]
  },
  {
   "cell_type": "code",
   "execution_count": 79,
   "metadata": {},
   "outputs": [
    {
     "name": "stdout",
     "output_type": "stream",
     "text": [
      "[[0.+0.00000000e+00j 0.-5.00000000e-01j 0.+0.00000000e+00j]\n",
      " [0.+5.00000000e-01j 0.+0.00000000e+00j 0.+5.55111512e-17j]\n",
      " [0.+0.00000000e+00j 0.-5.55111512e-17j 0.+0.00000000e+00j]]\n"
     ]
    }
   ],
   "source": [
    "alpha = np.pi / 4\n",
    "beta = 3*np.pi / 4\n",
    "lambdas = [-1, 0, 1]\n",
    "\n",
    "delta_Malpha = calculate_M(lambdas, alpha) - calculate_M(lambdas, -alpha)\n",
    "delta_Mbeta = calculate_M(lambdas, beta) - calculate_M(lambdas, -beta)\n",
    "\n",
    "d1 = (np.sqrt(2) + 1)/(4*np.sqrt(2))\n",
    "d2 = (-np.sqrt(2) + 1)/(4*np.sqrt(2))\n",
    "\n",
    "print(d1*delta_Malpha + d2*delta_Mbeta)"
   ]
  }
 ],
 "metadata": {
  "interpreter": {
   "hash": "770b641b4564229c593d803dcff32fdd6beb94e7a78ba8806c95b100ce213599"
  },
  "kernelspec": {
   "display_name": "Python 3.8.0 64-bit",
   "language": "python",
   "name": "python3"
  },
  "language_info": {
   "codemirror_mode": {
    "name": "ipython",
    "version": 3
   },
   "file_extension": ".py",
   "mimetype": "text/x-python",
   "name": "python",
   "nbconvert_exporter": "python",
   "pygments_lexer": "ipython3",
   "version": "3.8.0"
  },
  "orig_nbformat": 4
 },
 "nbformat": 4,
 "nbformat_minor": 2
}
