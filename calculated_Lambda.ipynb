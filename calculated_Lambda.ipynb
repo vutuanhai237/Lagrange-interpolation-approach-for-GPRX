{
 "cells": [
  {
   "cell_type": "code",
   "execution_count": 2,
   "metadata": {},
   "outputs": [
    {
     "name": "stdout",
     "output_type": "stream",
     "text": [
      "(1+0j) + -1.2246467991473532e-16jG^1 + (-2+0j)G^2\n",
      "[(1+0j), -1.2246467991473532e-16j, (-2+0j)]\n"
     ]
    }
   ],
   "source": [
    "import numpy as np\n",
    "from polynomial import Polymonial, multiXPoly, addXPoly\n",
    "\n",
    "x = np.pi\n",
    "R = 3\n",
    "lambdas = [-1, 0, 1]\n",
    "\n",
    "# Begin algorithm 1\n",
    "Ss = []\n",
    "for k in range(0, R):\n",
    "    P = np.exp(-1j * x * lambdas[k])\n",
    "    Vs = []\n",
    "    for l in range(0, R):\n",
    "        if l != k: \n",
    "            P = P / (lambdas[k] - lambdas[l])\n",
    "            Vs.append(Polymonial([-lambdas[l], 1]))\n",
    "    V = multiXPoly(Vs)\n",
    "    V.multiX(P)\n",
    "    Ss.append(V)\n",
    "S = addXPoly(Ss)\n",
    "\n",
    "print(S)\n",
    "print(S.coeff)"
   ]
  }
 ],
 "metadata": {
  "interpreter": {
   "hash": "770b641b4564229c593d803dcff32fdd6beb94e7a78ba8806c95b100ce213599"
  },
  "kernelspec": {
   "display_name": "Python 3.8.0 64-bit",
   "language": "python",
   "name": "python3"
  },
  "language_info": {
   "codemirror_mode": {
    "name": "ipython",
    "version": 3
   },
   "file_extension": ".py",
   "mimetype": "text/x-python",
   "name": "python",
   "nbconvert_exporter": "python",
   "pygments_lexer": "ipython3",
   "version": "3.8.0"
  },
  "orig_nbformat": 4
 },
 "nbformat": 4,
 "nbformat_minor": 2
}
