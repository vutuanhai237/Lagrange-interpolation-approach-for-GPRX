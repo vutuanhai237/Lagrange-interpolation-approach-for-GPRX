{
 "cells": [
  {
   "cell_type": "code",
   "execution_count": 1,
   "metadata": {},
   "outputs": [],
   "source": [
    "import numpy as np\n",
    "import spatial\n",
    "import importlib\n",
    "importlib.reload(spatial)\n",
    "from polynomial import Polymonial, multiXPoly, addXPoly\n",
    "\n",
    "def calculate_Lambda(lambdas, alpha):\n",
    "    # Begin algorithm 1\n",
    "    R = len(lambdas)\n",
    "    Ss = []\n",
    "    for k in range(0, R):\n",
    "        P = np.exp(-1j * alpha * lambdas[k])\n",
    "        Vs = []\n",
    "        for l in range(0, R):\n",
    "            if l != k: \n",
    "                P = P / (lambdas[k] - lambdas[l])\n",
    "                Vs.append(Polymonial([-lambdas[l], 1]))\n",
    "        V = multiXPoly(Vs)\n",
    "        Ss.append(V.multiX(P))\n",
    "    S = addXPoly(Ss)\n",
    "    return S\n",
    "def calculate_M(lambdas, alpha):\n",
    "    # This return Lambda_0, Lambda_1, ...\n",
    "    Lambdas = calculate_Lambda(lambdas, alpha).coeff\n",
    "    M = np.zeros([len(Lambdas), len(Lambdas)], dtype = np.complex128)\n",
    "    for i in range(0, len(Lambdas)):\n",
    "        for j in range(0, len(Lambdas)):\n",
    "            M[i, j] = np.conjugate(Lambdas[i]) * Lambdas[j]\n",
    "    return M\n",
    "\n",
    "def check_symmetric(a, rtol=1e-05, atol=1e-08):\n",
    "    return np.allclose(a, np.conjugate(a.T), rtol=rtol, atol=atol)\n",
    "    \n",
    "# alpha = -np.pi / 2\n",
    "# lambdas = [-1, 0, 1]\n",
    "# S = calculate_Lambda(lambdas, alpha)\n",
    "# print(S.coeff)"
   ]
  },
  {
   "cell_type": "code",
   "execution_count": 48,
   "metadata": {},
   "outputs": [],
   "source": [
    "def upper_matrix(M):\n",
    "    upper_elements = []\n",
    "    for i in range(0, M.shape[0]):\n",
    "        for j in range(i + 1, M.shape[0], 2):           \n",
    "            upper_elements.append(M[i, j])\n",
    "    return np.expand_dims(np.asarray(upper_elements[1:]), 1)\n",
    "alpha = np.pi / 4\n",
    "beta = np.pi / 2\n",
    "gamma = np.pi / 3\n",
    "# lambdas = [-1, 0, 1]\n",
    "# lambdas = [-3/2, -1/2, 1/2, 3/2]\n",
    "# lambdas = [-2, -1, 0, 1, 2]\n",
    "# lambdas = [-3, -2, -1, 1, 2, 3]\n",
    "lambdas = [-3, -2, -1, 0, 1, 2, 5]\n",
    "Lambdas = calculate_Lambda(lambdas, alpha).coeff\n",
    "delta_Malpha = calculate_M(lambdas, alpha) - calculate_M(lambdas, -alpha)\n",
    "delta_Mbeta = calculate_M(lambdas, beta) - calculate_M(lambdas, -beta)\n",
    "delta_Mgamma = calculate_M(lambdas, gamma) - calculate_M(lambdas, -gamma)\n",
    "\n",
    "d1 = 1/2\n",
    "d2 = (-np.sqrt(2) + 1) / 4\n",
    "\n",
    "# T_alpha = upper_matrix(delta_Malpha)\n",
    "# T_beta = upper_matrix(delta_Mbeta)\n",
    "# T_gamma = upper_matrix(delta_Mgamma)\n"
   ]
  },
  {
   "cell_type": "code",
   "execution_count": 49,
   "metadata": {},
   "outputs": [
    {
     "name": "stdout",
     "output_type": "stream",
     "text": [
      "[[0.+0.000e+00j 0.-1.567e+00j 0.+0.000e+00j 0.+1.570e-01j 0.-1.000e-03j\n",
      "  0.-4.000e-03j 0.+0.000e+00j]\n",
      " [0.+1.567e+00j 0.+0.000e+00j 0.-4.830e-01j 0.-1.000e-03j 0.+2.400e-02j\n",
      "  0.+0.000e+00j 0.-0.000e+00j]\n",
      " [0.-0.000e+00j 0.+4.830e-01j 0.+0.000e+00j 0.-4.800e-02j 0.+0.000e+00j\n",
      "  0.+1.000e-03j 0.-0.000e+00j]\n",
      " [0.-1.570e-01j 0.+1.000e-03j 0.+4.800e-02j 0.+0.000e+00j 0.-2.000e-03j\n",
      "  0.-0.000e+00j 0.+0.000e+00j]\n",
      " [0.+1.000e-03j 0.-2.400e-02j 0.-0.000e+00j 0.+2.000e-03j 0.+0.000e+00j\n",
      "  0.-0.000e+00j 0.+0.000e+00j]\n",
      " [0.+4.000e-03j 0.-0.000e+00j 0.-1.000e-03j 0.+0.000e+00j 0.+0.000e+00j\n",
      "  0.+0.000e+00j 0.-0.000e+00j]\n",
      " [0.-0.000e+00j 0.+0.000e+00j 0.+0.000e+00j 0.-0.000e+00j 0.-0.000e+00j\n",
      "  0.+0.000e+00j 0.+0.000e+00j]]\n",
      "[[0.+1.56723054e-01j]\n",
      " [0.-3.73037340e-03j]\n",
      " [0.-4.83009237e-01j]\n",
      " [0.+2.43795679e-02j]\n",
      " [0.-3.94412228e-04j]\n",
      " [0.-4.83015140e-02j]\n",
      " [0.+1.14965805e-03j]\n",
      " [0.-2.43779627e-03j]\n",
      " [0.+3.94021694e-05j]\n",
      " [0.-5.79872410e-05j]\n",
      " [0.-9.30266715e-07j]]\n"
     ]
    }
   ],
   "source": [
    "print(np.round(delta_Malpha, 3))\n",
    "print(upper_matrix(delta_Malpha))"
   ]
  },
  {
   "cell_type": "code",
   "execution_count": 50,
   "metadata": {},
   "outputs": [],
   "source": [
    "Ts = []\n",
    "deltas = []\n",
    "thetas = []\n",
    "dim_d = int(len(lambdas)**2/4) - 1\n",
    "for i in range(0, dim_d):\n",
    "    theta = np.random.uniform(0, 2*np.pi)\n",
    "    delta = (calculate_M(lambdas, theta) - calculate_M(lambdas, -theta))\n",
    "    thetas.append(theta)\n",
    "    deltas.append(delta)\n",
    "    Ts.append(upper_matrix(delta))"
   ]
  },
  {
   "cell_type": "code",
   "execution_count": 51,
   "metadata": {},
   "outputs": [],
   "source": [
    "T = Ts[0]\n",
    "for i in range(1, len(Ts)):\n",
    "    T = np.hstack((T, Ts[i]))"
   ]
  },
  {
   "cell_type": "code",
   "execution_count": 52,
   "metadata": {},
   "outputs": [
    {
     "data": {
      "text/plain": [
       "(11, 11)"
      ]
     },
     "execution_count": 52,
     "metadata": {},
     "output_type": "execute_result"
    }
   ],
   "source": [
    "T.shape"
   ]
  },
  {
   "cell_type": "code",
   "execution_count": 53,
   "metadata": {},
   "outputs": [],
   "source": [
    "from scipy.linalg import null_space\n",
    "\n",
    "init_rcond = 1\n",
    "while True:\n",
    "    \n",
    "    d = (null_space(T, rcond = init_rcond))\n",
    "    if d.shape[1] != 1:\n",
    "        init_rcond /= 10\n",
    "    else:\n",
    "        break"
   ]
  },
  {
   "cell_type": "code",
   "execution_count": 54,
   "metadata": {},
   "outputs": [
    {
     "data": {
      "text/plain": [
       "array([[ 0.00851626-0.j        ],\n",
       "       [ 0.13746947-0.39748559j],\n",
       "       [-0.23470929+0.56110087j],\n",
       "       [-0.12495755+0.26298878j],\n",
       "       [-0.0056081 -0.00106667j],\n",
       "       [-0.22814515+0.33151906j],\n",
       "       [ 0.23132273+0.08574373j],\n",
       "       [ 0.25880592-0.2050326j ],\n",
       "       [ 0.01104206-0.00194323j],\n",
       "       [ 0.00464935+0.18990442j],\n",
       "       [-0.01557136-0.00353034j]])"
      ]
     },
     "execution_count": 54,
     "metadata": {},
     "output_type": "execute_result"
    }
   ],
   "source": [
    "d"
   ]
  },
  {
   "cell_type": "code",
   "execution_count": 55,
   "metadata": {},
   "outputs": [
    {
     "data": {
      "text/plain": [
       "array([[-1.04083409e-16+1.73472348e-17j],\n",
       "       [ 2.16840434e-18+1.73472348e-18j],\n",
       "       [ 1.24900090e-16+4.16333634e-17j],\n",
       "       [ 5.03069808e-17-1.47451495e-17j],\n",
       "       [-2.22261445e-18+1.35525272e-18j],\n",
       "       [-5.89805982e-17+3.12250226e-17j],\n",
       "       [ 1.63714528e-17-6.50521303e-19j],\n",
       "       [-3.05745013e-17+7.80625564e-18j],\n",
       "       [ 8.13151629e-20-1.07064965e-18j],\n",
       "       [-4.90601483e-18-3.52365706e-19j],\n",
       "       [-6.51368336e-19+1.04185053e-19j]])"
      ]
     },
     "execution_count": 55,
     "metadata": {},
     "output_type": "execute_result"
    }
   ],
   "source": [
    "T @ d"
   ]
  },
  {
   "cell_type": "code",
   "execution_count": 56,
   "metadata": {},
   "outputs": [
    {
     "name": "stdout",
     "output_type": "stream",
     "text": [
      "[[ 0.   +0.j    -0.088-0.005j  0.   -0.j    -0.   +0.j     0.   +0.j\n",
      "   0.   +0.j    -0.   -0.j   ]\n",
      " [ 0.088+0.005j  0.   +0.j     0.   +0.j    -0.   -0.j     0.   -0.j\n",
      "   0.   +0.j    -0.   +0.j   ]\n",
      " [-0.   +0.j    -0.   -0.j     0.   +0.j    -0.   +0.j    -0.   -0.j\n",
      "   0.   -0.j    -0.   -0.j   ]\n",
      " [ 0.   -0.j     0.   +0.j     0.   -0.j     0.   +0.j    -0.   +0.j\n",
      "  -0.   -0.j     0.   -0.j   ]\n",
      " [-0.   -0.j    -0.   +0.j     0.   +0.j     0.   -0.j     0.   +0.j\n",
      "  -0.   -0.j     0.   +0.j   ]\n",
      " [-0.   -0.j    -0.   -0.j    -0.   +0.j     0.   +0.j     0.   +0.j\n",
      "   0.   +0.j    -0.   +0.j   ]\n",
      " [ 0.   +0.j     0.   -0.j     0.   +0.j    -0.   +0.j    -0.   -0.j\n",
      "   0.   -0.j     0.   +0.j   ]]\n"
     ]
    }
   ],
   "source": [
    "sumMatrix = d[0] * deltas[0]\n",
    "\n",
    "for i in range(1, len(Ts)):\n",
    "    sumMatrix += d[i] * deltas[i]\n",
    "print(np.round(sumMatrix, 3))"
   ]
  },
  {
   "cell_type": "code",
   "execution_count": 60,
   "metadata": {},
   "outputs": [
    {
     "data": {
      "text/plain": [
       "array([[ 0.00000000e+00+0.00000000e+00j,  8.96429478e-03-1.50421630e-02j,\n",
       "        -2.89909118e-17+4.94037830e-17j, -5.55111512e-17+8.32667268e-17j,\n",
       "         1.15637639e-18-1.94406034e-18j,  8.67361738e-18-1.56125113e-17j],\n",
       "       [-8.96429478e-03+1.50421630e-02j,  0.00000000e+00+0.00000000e+00j,\n",
       "         2.77555756e-17+8.32667268e-17j,  5.02938534e-18-1.36410686e-17j,\n",
       "        -1.73472348e-18+0.00000000e+00j, -2.64518292e-19+6.36386340e-19j],\n",
       "       [ 2.89909118e-17-4.94037830e-17j, -2.77555756e-17-8.32667268e-17j,\n",
       "         0.00000000e+00+0.00000000e+00j,  6.24500451e-17-9.71445147e-17j,\n",
       "         9.30046641e-19-1.92239006e-18j, -1.21430643e-17+1.73472348e-17j],\n",
       "       [ 5.55111512e-17-8.32667268e-17j, -5.02938534e-18+1.36410686e-17j,\n",
       "        -6.24500451e-17+9.71445147e-17j,  0.00000000e+00+0.00000000e+00j,\n",
       "         1.47451495e-17-1.73472348e-17j,  7.27349338e-20-1.33629377e-19j],\n",
       "       [-1.15637639e-18+1.94406034e-18j,  1.73472348e-18+0.00000000e+00j,\n",
       "        -9.30046641e-19+1.92239006e-18j, -1.47451495e-17+1.73472348e-17j,\n",
       "         0.00000000e+00+0.00000000e+00j,  1.19262239e-18-1.51788304e-18j],\n",
       "       [-8.67361738e-18+1.56125113e-17j,  2.64518292e-19-6.36386340e-19j,\n",
       "         1.21430643e-17-1.73472348e-17j, -7.27349338e-20+1.33629377e-19j,\n",
       "        -1.19262239e-18+1.51788304e-18j,  0.00000000e+00+0.00000000e+00j]])"
      ]
     },
     "execution_count": 60,
     "metadata": {},
     "output_type": "execute_result"
    }
   ],
   "source": []
  },
  {
   "cell_type": "code",
   "execution_count": 79,
   "metadata": {},
   "outputs": [
    {
     "name": "stdout",
     "output_type": "stream",
     "text": [
      "[[0.+0.00000000e+00j 0.-5.00000000e-01j 0.+0.00000000e+00j]\n",
      " [0.+5.00000000e-01j 0.+0.00000000e+00j 0.+5.55111512e-17j]\n",
      " [0.+0.00000000e+00j 0.-5.55111512e-17j 0.+0.00000000e+00j]]\n"
     ]
    }
   ],
   "source": [
    "alpha = np.pi / 4\n",
    "beta = 3*np.pi / 4\n",
    "lambdas = [-1, 0, 1]\n",
    "\n",
    "delta_Malpha = calculate_M(lambdas, alpha) - calculate_M(lambdas, -alpha)\n",
    "delta_Mbeta = calculate_M(lambdas, beta) - calculate_M(lambdas, -beta)\n",
    "\n",
    "d1 = (np.sqrt(2) + 1)/(4*np.sqrt(2))\n",
    "d2 = (-np.sqrt(2) + 1)/(4*np.sqrt(2))\n",
    "\n",
    "print(d1*delta_Malpha + d2*delta_Mbeta)"
   ]
  }
 ],
 "metadata": {
  "interpreter": {
   "hash": "770b641b4564229c593d803dcff32fdd6beb94e7a78ba8806c95b100ce213599"
  },
  "kernelspec": {
   "display_name": "Python 3.8.0 64-bit",
   "language": "python",
   "name": "python3"
  },
  "language_info": {
   "codemirror_mode": {
    "name": "ipython",
    "version": 3
   },
   "file_extension": ".py",
   "mimetype": "text/x-python",
   "name": "python",
   "nbconvert_exporter": "python",
   "pygments_lexer": "ipython3",
   "version": "3.8.0"
  },
  "orig_nbformat": 4
 },
 "nbformat": 4,
 "nbformat_minor": 2
}
