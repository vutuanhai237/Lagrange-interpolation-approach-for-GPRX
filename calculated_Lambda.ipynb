{
 "cells": [
  {
   "cell_type": "code",
   "execution_count": 1,
   "metadata": {},
   "outputs": [],
   "source": [
    "import numpy as np\n",
    "import spatial\n",
    "import importlib\n",
    "importlib.reload(spatial)\n",
    "from polynomial import Polymonial, multiXPoly, addXPoly\n",
    "\n",
    "def calculate_Lambda(lambdas, alpha):\n",
    "    # Begin algorithm 1\n",
    "    R = len(lambdas)\n",
    "    Ss = []\n",
    "    for k in range(0, R):\n",
    "        P = np.exp(-1j * alpha * lambdas[k])\n",
    "        Vs = []\n",
    "        for l in range(0, R):\n",
    "            if l != k: \n",
    "                P = P / (lambdas[k] - lambdas[l])\n",
    "                Vs.append(Polymonial([-lambdas[l], 1]))\n",
    "        V = multiXPoly(Vs)\n",
    "        Ss.append(V.multiX(P))\n",
    "    S = addXPoly(Ss)\n",
    "    return S\n",
    "def calculate_M(lambdas, alpha):\n",
    "    # This return Lambda_0, Lambda_1, ...\n",
    "    Lambdas = calculate_Lambda(lambdas, alpha).coeff\n",
    "    M = np.zeros([len(Lambdas), len(Lambdas)], dtype = np.complex128)\n",
    "    for i in range(0, len(Lambdas)):\n",
    "        for j in range(0, len(Lambdas)):\n",
    "            M[i, j] = np.conjugate(Lambdas[i]) * Lambdas[j]\n",
    "    return M\n",
    "\n",
    "def check_symmetric(a, rtol=1e-05, atol=1e-08):\n",
    "    return np.allclose(a, np.conjugate(a.T), rtol=rtol, atol=atol)\n",
    "    \n",
    "# alpha = -np.pi / 2\n",
    "# lambdas = [-1, 0, 1]\n",
    "# S = calculate_Lambda(lambdas, alpha)\n",
    "# print(S.coeff)"
   ]
  },
  {
   "cell_type": "code",
   "execution_count": 70,
   "metadata": {},
   "outputs": [],
   "source": [
    "def upper_matrix(M):\n",
    "    upper_elements = []\n",
    "    for i in range(0, M.shape[0]):\n",
    "        for j in range(i + 1, M.shape[0], 2):           \n",
    "            upper_elements.append(M[i, j])\n",
    "    return np.expand_dims(np.asarray(upper_elements[1:]), 1)\n",
    "alpha = np.pi / 4\n",
    "beta = np.pi / 2\n",
    "gamma = np.pi / 3\n",
    "# lambdas = [-1, 0, 1]\n",
    "# lambdas = [-3/2, -1/2, 1/2, 3/2]\n",
    "lambdas = [-2, -1, 0, 1, 2]\n",
    "# lambdas = [-3, -2, -1, 1, 2, 3]\n",
    "Lambdas = calculate_Lambda(lambdas, alpha).coeff\n",
    "delta_Malpha = calculate_M(lambdas, alpha) - calculate_M(lambdas, -alpha)\n",
    "delta_Mbeta = calculate_M(lambdas, beta) - calculate_M(lambdas, -beta)\n",
    "delta_Mgamma = calculate_M(lambdas, gamma) - calculate_M(lambdas, -gamma)\n",
    "\n",
    "d1 = 1/2\n",
    "d2 = (-np.sqrt(2) + 1) / 4\n",
    "\n",
    "# T_alpha = upper_matrix(delta_Malpha)\n",
    "# T_beta = upper_matrix(delta_Mbeta)\n",
    "# T_gamma = upper_matrix(delta_Mgamma)\n"
   ]
  },
  {
   "cell_type": "code",
   "execution_count": 71,
   "metadata": {},
   "outputs": [
    {
     "name": "stdout",
     "output_type": "stream",
     "text": [
      "[[0.+0.j    0.-1.552j 0.-0.j    0.+0.138j 0.-0.j   ]\n",
      " [0.+1.552j 0.+0.j    0.-0.477j 0.+0.j    0.+0.022j]\n",
      " [0.+0.j    0.+0.477j 0.+0.j    0.-0.042j 0.+0.j   ]\n",
      " [0.-0.138j 0.-0.j    0.+0.042j 0.+0.j    0.-0.002j]\n",
      " [0.+0.j    0.-0.022j 0.-0.j    0.+0.002j 0.+0.j   ]]\n",
      "[[0.+0.13807119j]\n",
      " [0.-0.47684784j]\n",
      " [0.+0.02219416j]\n",
      " [0.-0.04241422j]\n",
      " [0.-0.00197411j]]\n"
     ]
    }
   ],
   "source": [
    "print(np.round(delta_Malpha, 3))\n",
    "print(upper_matrix(delta_Malpha))"
   ]
  },
  {
   "cell_type": "code",
   "execution_count": 84,
   "metadata": {},
   "outputs": [],
   "source": [
    "Ts = []\n",
    "deltas = []\n",
    "thetas = []\n",
    "for i in range(0, delta_Malpha.shape[0]):\n",
    "    theta = np.random.uniform(0, 2*np.pi)\n",
    "    delta = (calculate_M(lambdas, theta) - calculate_M(lambdas, -theta))\n",
    "    thetas.append(theta)\n",
    "    deltas.append(delta)\n",
    "    Ts.append(upper_matrix(delta))"
   ]
  },
  {
   "cell_type": "code",
   "execution_count": 85,
   "metadata": {},
   "outputs": [],
   "source": [
    "T = Ts[0]\n",
    "for i in range(1, len(Ts)):\n",
    "    T = np.hstack((T, Ts[i]))"
   ]
  },
  {
   "cell_type": "code",
   "execution_count": 90,
   "metadata": {},
   "outputs": [],
   "source": [
    "from scipy.linalg import null_space\n",
    "\n",
    "init_rcond = 1\n",
    "while True:\n",
    "    \n",
    "    d = (null_space(T, rcond = init_rcond))\n",
    "    if d.shape[1] != 1:\n",
    "        init_rcond /= 10\n",
    "    else:\n",
    "        break"
   ]
  },
  {
   "cell_type": "code",
   "execution_count": 91,
   "metadata": {},
   "outputs": [
    {
     "data": {
      "text/plain": [
       "array([[ 0.17352958-0.00000000e+00j],\n",
       "       [ 0.35830223+5.03293766e-01j],\n",
       "       [-0.42175429-6.36679852e-01j],\n",
       "       [ 0.00212717+2.44018618e-04j],\n",
       "       [ 0.07042641+9.80985385e-05j]])"
      ]
     },
     "execution_count": 91,
     "metadata": {},
     "output_type": "execute_result"
    }
   ],
   "source": [
    "d"
   ]
  },
  {
   "cell_type": "code",
   "execution_count": 92,
   "metadata": {},
   "outputs": [
    {
     "data": {
      "text/plain": [
       "array([[ 3.85908211e-17-2.08166817e-17j],\n",
       "       [-3.38948704e-16+2.22044605e-16j],\n",
       "       [ 1.27759674e-16-1.04083409e-16j],\n",
       "       [-1.90887345e-16+1.45716772e-16j],\n",
       "       [-6.08847282e-17+5.03069808e-17j]])"
      ]
     },
     "execution_count": 92,
     "metadata": {},
     "output_type": "execute_result"
    }
   ],
   "source": [
    "T @ d"
   ]
  },
  {
   "cell_type": "code",
   "execution_count": 94,
   "metadata": {},
   "outputs": [
    {
     "name": "stdout",
     "output_type": "stream",
     "text": [
      "[[ 0.   +0.j     0.059-0.024j  0.   -0.j     0.   -0.j     0.   +0.j   ]\n",
      " [-0.059+0.024j  0.   +0.j    -0.   +0.j    -0.   -0.j     0.   -0.j   ]\n",
      " [-0.   +0.j     0.   -0.j     0.   +0.j    -0.   +0.j    -0.   -0.j   ]\n",
      " [-0.   +0.j     0.   +0.j     0.   -0.j     0.   +0.j    -0.   +0.j   ]\n",
      " [-0.   -0.j    -0.   +0.j     0.   +0.j     0.   -0.j     0.   +0.j   ]]\n"
     ]
    }
   ],
   "source": [
    "sumMatrix = d[0] * deltas[0]\n",
    "\n",
    "for i in range(1, len(Ts)):\n",
    "    sumMatrix += d[i] * deltas[i]\n",
    "print(np.round(sumMatrix, 3))"
   ]
  },
  {
   "cell_type": "code",
   "execution_count": 60,
   "metadata": {},
   "outputs": [
    {
     "data": {
      "text/plain": [
       "array([[ 0.00000000e+00+0.00000000e+00j,  8.96429478e-03-1.50421630e-02j,\n",
       "        -2.89909118e-17+4.94037830e-17j, -5.55111512e-17+8.32667268e-17j,\n",
       "         1.15637639e-18-1.94406034e-18j,  8.67361738e-18-1.56125113e-17j],\n",
       "       [-8.96429478e-03+1.50421630e-02j,  0.00000000e+00+0.00000000e+00j,\n",
       "         2.77555756e-17+8.32667268e-17j,  5.02938534e-18-1.36410686e-17j,\n",
       "        -1.73472348e-18+0.00000000e+00j, -2.64518292e-19+6.36386340e-19j],\n",
       "       [ 2.89909118e-17-4.94037830e-17j, -2.77555756e-17-8.32667268e-17j,\n",
       "         0.00000000e+00+0.00000000e+00j,  6.24500451e-17-9.71445147e-17j,\n",
       "         9.30046641e-19-1.92239006e-18j, -1.21430643e-17+1.73472348e-17j],\n",
       "       [ 5.55111512e-17-8.32667268e-17j, -5.02938534e-18+1.36410686e-17j,\n",
       "        -6.24500451e-17+9.71445147e-17j,  0.00000000e+00+0.00000000e+00j,\n",
       "         1.47451495e-17-1.73472348e-17j,  7.27349338e-20-1.33629377e-19j],\n",
       "       [-1.15637639e-18+1.94406034e-18j,  1.73472348e-18+0.00000000e+00j,\n",
       "        -9.30046641e-19+1.92239006e-18j, -1.47451495e-17+1.73472348e-17j,\n",
       "         0.00000000e+00+0.00000000e+00j,  1.19262239e-18-1.51788304e-18j],\n",
       "       [-8.67361738e-18+1.56125113e-17j,  2.64518292e-19-6.36386340e-19j,\n",
       "         1.21430643e-17-1.73472348e-17j, -7.27349338e-20+1.33629377e-19j,\n",
       "        -1.19262239e-18+1.51788304e-18j,  0.00000000e+00+0.00000000e+00j]])"
      ]
     },
     "execution_count": 60,
     "metadata": {},
     "output_type": "execute_result"
    }
   ],
   "source": []
  },
  {
   "cell_type": "code",
   "execution_count": 79,
   "metadata": {},
   "outputs": [
    {
     "name": "stdout",
     "output_type": "stream",
     "text": [
      "[[0.+0.00000000e+00j 0.-5.00000000e-01j 0.+0.00000000e+00j]\n",
      " [0.+5.00000000e-01j 0.+0.00000000e+00j 0.+5.55111512e-17j]\n",
      " [0.+0.00000000e+00j 0.-5.55111512e-17j 0.+0.00000000e+00j]]\n"
     ]
    }
   ],
   "source": [
    "alpha = np.pi / 4\n",
    "beta = 3*np.pi / 4\n",
    "lambdas = [-1, 0, 1]\n",
    "\n",
    "delta_Malpha = calculate_M(lambdas, alpha) - calculate_M(lambdas, -alpha)\n",
    "delta_Mbeta = calculate_M(lambdas, beta) - calculate_M(lambdas, -beta)\n",
    "\n",
    "d1 = (np.sqrt(2) + 1)/(4*np.sqrt(2))\n",
    "d2 = (-np.sqrt(2) + 1)/(4*np.sqrt(2))\n",
    "\n",
    "print(d1*delta_Malpha + d2*delta_Mbeta)"
   ]
  }
 ],
 "metadata": {
  "interpreter": {
   "hash": "770b641b4564229c593d803dcff32fdd6beb94e7a78ba8806c95b100ce213599"
  },
  "kernelspec": {
   "display_name": "Python 3.8.0 64-bit",
   "language": "python",
   "name": "python3"
  },
  "language_info": {
   "codemirror_mode": {
    "name": "ipython",
    "version": 3
   },
   "file_extension": ".py",
   "mimetype": "text/x-python",
   "name": "python",
   "nbconvert_exporter": "python",
   "pygments_lexer": "ipython3",
   "version": "3.8.0"
  },
  "orig_nbformat": 4
 },
 "nbformat": 4,
 "nbformat_minor": 2
}
