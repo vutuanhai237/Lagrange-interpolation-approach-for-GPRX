{
 "cells": [
  {
   "cell_type": "code",
   "execution_count": null,
   "metadata": {},
   "outputs": [],
   "source": [
    "import numpy as np\n",
    "\n",
    "psi = np.zeros([2, 1])\n",
    "psi[0] = 1\n",
    "\n",
    "pauli_Z = np.array([[1, 0],\n",
    "                    [0, -1]])\n",
    "pauli_X = np.array([[0, 1],\n",
    "                    [1, 0]])\n",
    "B = pauli_Z.copy()\n",
    "\n",
    "def U(x):\n",
    "    return np.exp(-1j * x / 2 * pauli_Z)\n",
    "\n",
    "def calculate_cost(U, B, x):\n",
    "    return np.conjugate(np.transpose(psi @ U(x))) @ B @ (U(x) @ psi)\n",
    "    \n",
    "def calculate_super_operator(U, B, a):\n",
    "    return np.conjugate(np.transpose(U(a))) @ B @ U(a)\n"
   ]
  }
 ],
 "metadata": {
  "language_info": {
   "name": "python"
  },
  "orig_nbformat": 4
 },
 "nbformat": 4,
 "nbformat_minor": 2
}
