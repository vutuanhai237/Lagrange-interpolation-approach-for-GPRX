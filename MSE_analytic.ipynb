{
 "cells": [
  {
   "cell_type": "markdown",
   "metadata": {},
   "source": [
    "Numberical simulation"
   ]
  },
  {
   "cell_type": "code",
   "execution_count": 49,
   "metadata": {},
   "outputs": [
    {
     "data": {
      "text/plain": [
       "<module 'base' from 'c:\\\\Users\\\\haime\\\\OneDrive\\\\Documents\\\\GitHub\\\\Lagrange interpolation approach for GPRX\\\\base.py'>"
      ]
     },
     "execution_count": 49,
     "metadata": {},
     "output_type": "execute_result"
    }
   ],
   "source": [
    "import base, constant\n",
    "import numpy as np, qiskit\n",
    "from sklearn.metrics import mean_squared_error\n",
    "import matplotlib.pyplot as plt\n",
    "import importlib\n",
    "importlib.reload(constant)\n",
    "importlib.reload(base)"
   ]
  },
  {
   "cell_type": "code",
   "execution_count": 50,
   "metadata": {},
   "outputs": [
    {
     "name": "stdout",
     "output_type": "stream",
     "text": [
      "0.01\n",
      "F1 0.11219600792468196\n",
      "F1k -0.9330127018922155\n",
      "F1 0.11473256898015499\n",
      "F1k 8.326811464185845e-15\n",
      "0.11\n",
      "F1 0.08856970640110735\n",
      "F1k -0.9330127018922213\n",
      "F1 0.11473256898015498\n",
      "F1k 5.05665972308981e-16\n",
      "0.21100000000000002\n",
      "F1 0.06746157804373222\n",
      "F1k -0.9330127018922199\n",
      "F1 0.11473256898015476\n",
      "F1k 0.0\n",
      "0.31301\n",
      "F1 0.048117117500380925\n",
      "F1k -0.9330127018922195\n",
      "F1 0.1147325689801553\n",
      "F1k -1.5774117295339473e-16\n",
      "0.4160401\n",
      "F1 0.02954933404047018\n",
      "F1k -0.9330127018922194\n",
      "F1 0.11473256898015476\n",
      "F1k 0.0\n",
      "0.520100501\n",
      "F1 0.010575800507587689\n",
      "F1k -0.9330127018922192\n",
      "F1 0.11473256898015498\n",
      "F1k 1.2566226912113977e-16\n",
      "0.62520150601\n",
      "F1 -0.010135231879156213\n",
      "F1k -0.9330127018922192\n",
      "F1 0.11473256898015474\n",
      "F1k 0.0\n",
      "0.7313535210701\n",
      "F1 -0.034014355010983606\n",
      "F1k -0.9330127018922194\n",
      "F1 0.11473256898015498\n",
      "F1k 0.0\n",
      "0.838567056280801\n",
      "F1 -0.06253893913100765\n",
      "F1k -0.9330127018922192\n",
      "F1 0.11473256898015498\n",
      "F1k 0.0\n",
      "0.946852726843609\n",
      "F1 -0.09717889207014865\n",
      "F1k -0.9330127018922195\n",
      "F1 0.11473256898015496\n",
      "F1k 0.0\n",
      "1.056221254112045\n",
      "F1 -0.13933528221483166\n",
      "F1k -0.9330127018922195\n",
      "F1 0.11473256898015474\n",
      "F1k 7.971141272713203e-18\n",
      "1.1666834666531656\n",
      "F1 -0.19026210642024516\n",
      "F1k -0.9330127018922193\n",
      "F1 0.11473256898015474\n",
      "F1k 0.0\n",
      "1.2782503013196973\n",
      "F1 -0.2509571434247991\n",
      "F1k -0.9330127018922194\n",
      "F1 0.11473256898015508\n",
      "F1k -5.07275317216165e-17\n",
      "1.3909328043328943\n",
      "F1 -0.322005065224823\n",
      "F1k -0.9330127018922194\n",
      "F1 0.11473256898015481\n",
      "F1k 0.0\n",
      "1.5047421323762233\n",
      "F1 -0.4033565696561368\n",
      "F1k -0.9330127018922195\n",
      "F1 0.11473256898015477\n",
      "F1k 8.344871055996224e-17\n",
      "1.6196895536999856\n",
      "F1 -0.494033925706086\n",
      "F1k -0.9330127018922196\n",
      "F1 0.11473256898015481\n",
      "F1k 0.0\n",
      "1.7357864492369854\n",
      "F1 -0.5917694790106421\n",
      "F1k -0.9330127018922196\n",
      "F1 0.11473256898015516\n",
      "F1k 5.627537203790279e-17\n",
      "1.8530443137293553\n",
      "F1 -0.6926127343937294\n",
      "F1k -0.9330127018922192\n",
      "F1 0.11473256898015498\n",
      "F1k 0.0\n",
      "1.9714747568666489\n",
      "F1 -0.7905846127265048\n",
      "F1k -0.9330127018922194\n",
      "F1 0.1147325689801553\n",
      "F1k -6.782175986002996e-17\n",
      "2.0910895044353155\n",
      "F1 -0.8775091704409281\n",
      "F1k -0.9330127018922194\n",
      "F1 0.11473256898015516\n",
      "F1k 7.197413246024671e-17\n",
      "2.211900399479669\n",
      "F1 -0.9431977083261125\n",
      "F1k -0.9330127018922196\n",
      "F1 0.11473256898015474\n",
      "F1k 6.926461580906596e-17\n",
      "2.3339194034744657\n",
      "F1 -0.9761694331599783\n",
      "F1k -0.9330127018922195\n",
      "F1 0.1147325689801548\n",
      "F1k 0.0\n",
      "2.4571585975092103\n",
      "F1 -0.9650308137350847\n",
      "F1k -0.9330127018922197\n",
      "F1 0.11473256898015496\n",
      "F1k -1.0975187924792788e-17\n",
      "2.5816301834843025\n",
      "F1 -0.9004756073317272\n",
      "F1k -0.9330127018922199\n",
      "F1 0.11473256898015496\n",
      "F1k 0.0\n",
      "2.7073464853191456\n",
      "F1 -0.7776179408196993\n",
      "F1k -0.9330127018922192\n",
      "F1 0.11473256898015498\n",
      "F1k -1.979116987221317e-16\n",
      "2.834319950172337\n",
      "F1 -0.5981005314602927\n",
      "F1k -0.9330127018922189\n",
      "F1 0.11473256898015508\n",
      "F1k -2.0647358981136881e-16\n",
      "2.9625631496740605\n",
      "F1 -0.37125693894328005\n",
      "F1k -0.9330127018922175\n",
      "F1 0.11473256898015509\n",
      "F1k -3.896620330262615e-17\n"
     ]
    }
   ],
   "source": [
    "step_sizes = base.create_log_step_sizes(0.01, 3, 0.1)\n",
    "thetas = np.asarray([np.pi/2, np.pi/3, np.pi/6])\n",
    "\n",
    "def f(thetas):\n",
    "    qc = qiskit.QuantumCircuit(2,2)\n",
    "    qc.rx(thetas[0], 0)\n",
    "    qc.rz(thetas[1], 1)\n",
    "    qc.cry(thetas[2], 0, 1)\n",
    "    return base.zz_measure(qc)\n",
    "\n",
    "true_grad = base.true_grad(thetas)\n",
    "\n",
    "mean_MSE_stds = []\n",
    "mean_MSE_finites = []\n",
    "std_MSE_stds = []\n",
    "std_MSE_finites = []\n",
    "for step_size in step_sizes:\n",
    "    print(step_size)\n",
    "    grad_finites = []\n",
    "    grad_stds = []\n",
    "\n",
    "    for _ in range(0, 1):\n",
    "        grad_finite = []\n",
    "        grad_std = []\n",
    "        for j in range(0, thetas.shape[0]):\n",
    "            length = thetas.shape[0]\n",
    "            f_left = f(thetas + step_size * base.unit_vector(j, length))\n",
    "            f_right = f(thetas - step_size * base.unit_vector(j, length))\n",
    "            if j != 2:\n",
    "                grad_std.append(base.pseudo_two_prx(f, thetas, j, step_size))\n",
    "            else:\n",
    "                grad_std.append(base.pseudo_four_prx(f, thetas, j))\n",
    "            grad_finite.append(base.two_finite_diff(f, thetas, j, step_size))\n",
    "        grad_stds.append(mean_squared_error(grad_std, true_grad))\n",
    "        grad_finites.append(mean_squared_error(grad_finite, true_grad))\n",
    "    mean_MSE_stds.append(np.mean(grad_stds,axis = 0))\n",
    "    std_MSE_stds.append(np.std(grad_stds,axis = 0))\n",
    "\n",
    "    mean_MSE_finites.append(np.mean(grad_finites,axis = 0))\n",
    "    std_MSE_finites.append(np.std(grad_finites,axis = 0))\n",
    "\n",
    "# np.savetxt('mean_MSE_stds.txt', mean_MSE_stds)\n",
    "# np.savetxt('std_MSE_stds.txt', std_MSE_stds)\n",
    "# np.savetxt('mean_MSE_finites.txt', mean_MSE_finites)\n",
    "# np.savetxt('std_MSE_finites.txt', std_MSE_finites)"
   ]
  },
  {
   "cell_type": "code",
   "execution_count": 32,
   "metadata": {},
   "outputs": [],
   "source": [
    "step_sizes = np.arange(10**(-2), 1, 10**(-1))\n",
    "mean_grad_stds = np.asarray(np.loadtxt('mean_grad_stds.txt'))\n",
    "mean_grad_finites = np.asarray(np.loadtxt('mean_grad_finites.txt'))\n",
    "e_std = []\n",
    "for i in range(0, mean_grad_stds.shape[0]):\n",
    "    e_std.append(mean_squared_error(mean_grad_stds[i], mean_grad_finites[i]))"
   ]
  },
  {
   "cell_type": "markdown",
   "metadata": {},
   "source": [
    "### Mean "
   ]
  },
  {
   "cell_type": "code",
   "execution_count": 54,
   "metadata": {},
   "outputs": [
    {
     "data": {
      "text/plain": [
       "<matplotlib.legend.Legend at 0x2030c590550>"
      ]
     },
     "execution_count": 54,
     "metadata": {},
     "output_type": "execute_result"
    },
    {
     "data": {
      "image/png": "[encoded data removed]",
      "text/plain": [
       "<Figure size 432x288 with 1 Axes>"
      ]
     },
     "metadata": {
      "needs_background": "light"
     },
     "output_type": "display_data"
    }
   ],
   "source": [
    "mean_MSE_stds = np.asarray(np.loadtxt('./ana1/mean_MSE_stds.txt'))\n",
    "std_MSE_stds = np.asarray(np.loadtxt('./ana1/std_MSE_stds.txt'))\n",
    "mean_MSE_finites = np.asarray(np.loadtxt('./ana1/mean_MSE_finites.txt'))\n",
    "std_MSE_finites = np.asarray(np.loadtxt('./ana1/std_MSE_finites.txt'))\n",
    "\n",
    "step_sizes = base.create_log_step_sizes(0.01, 3, 0.01)\n",
    "mean_MSE_stds = np.asarray(mean_MSE_stds)\n",
    "std_MSE_stds = np.asarray(std_MSE_stds)\n",
    "mean_MSE_finites = np.asarray(mean_MSE_finites)\n",
    "std_MSE_finites = np.asarray(std_MSE_finites)\n",
    "plt.plot(step_sizes, mean_MSE_stds, label = \"parameter-shift rule\")\n",
    "plt.fill_between(step_sizes, mean_MSE_stds - std_MSE_stds, mean_MSE_stds + std_MSE_stds, alpha=0.1)\n",
    "plt.plot(step_sizes, mean_MSE_finites,  label = \"finite-different\")\n",
    "plt.fill_between(step_sizes, mean_MSE_finites - std_MSE_finites, mean_MSE_finites + std_MSE_finites, alpha=0.1)\n",
    "plt.xscale('log')\n",
    "plt.yscale('log')\n",
    "plt.xlabel(\"Step size\")\n",
    "plt.ylabel(\"MSE\")\n",
    "plt.legend()"
   ]
  },
  {
   "cell_type": "markdown",
   "metadata": {},
   "source": [
    "<image src = \"./image/step_size.png\"/>"
   ]
  },
  {
   "cell_type": "code",
   "execution_count": 53,
   "metadata": {},
   "outputs": [
    {
     "data": {
      "text/plain": [
       "<matplotlib.legend.Legend at 0x2030c43aca0>"
      ]
     },
     "execution_count": 53,
     "metadata": {},
     "output_type": "execute_result"
    },
    {
     "data": {
      "image/png": "[encoded data removed]",
      "text/plain": [
       "<Figure size 432x288 with 1 Axes>"
      ]
     },
     "metadata": {
      "needs_background": "light"
     },
     "output_type": "display_data"
    }
   ],
   "source": [
    "mean_MSE_stds = np.asarray(np.loadtxt('./ana2/mean_MSE_stds.txt'))\n",
    "std_MSE_stds = np.asarray(np.loadtxt('./ana2/std_MSE_stds.txt'))\n",
    "mean_MSE_finites = np.asarray(np.loadtxt('./ana2/mean_MSE_finites.txt'))\n",
    "std_MSE_finites = np.asarray(np.loadtxt('./ana2/std_MSE_finites.txt'))\n",
    "\n",
    "step_sizes = base.create_log_step_sizes(0.01, 3, 0.01)\n",
    "mean_MSE_stds = np.asarray(mean_MSE_stds)\n",
    "std_MSE_stds = np.asarray(std_MSE_stds)\n",
    "mean_MSE_finites = np.asarray(mean_MSE_finites)\n",
    "std_MSE_finites = np.asarray(std_MSE_finites)\n",
    "plt.plot(step_sizes, mean_MSE_stds, label = \"parameter-shift rule\")\n",
    "plt.fill_between(step_sizes, mean_MSE_stds - std_MSE_stds, mean_MSE_stds + std_MSE_stds, alpha=0.1)\n",
    "plt.plot(step_sizes, mean_MSE_finites,  label = \"finite-different\")\n",
    "plt.fill_between(step_sizes, mean_MSE_finites - std_MSE_finites, mean_MSE_finites + std_MSE_finites, alpha=0.1)\n",
    "plt.xscale('log')\n",
    "plt.yscale('log')\n",
    "plt.xlabel(\"Step size\")\n",
    "plt.ylabel(\"MSE\")\n",
    "plt.legend()"
   ]
  },
  {
   "cell_type": "markdown",
   "metadata": {},
   "source": [
    "### Y"
   ]
  },
  {
   "cell_type": "code",
   "execution_count": 57,
   "metadata": {},
   "outputs": [
    {
     "data": {
      "text/plain": [
       "<matplotlib.legend.Legend at 0x2131c2acbe0>"
      ]
     },
     "execution_count": 57,
     "metadata": {},
     "output_type": "execute_result"
    },
    {
     "data": {
      "image/png": "[encoded data removed]",
      "text/plain": [
       "<Figure size 432x288 with 1 Axes>"
      ]
     },
     "metadata": {
      "needs_background": "light"
     },
     "output_type": "display_data"
    }
   ],
   "source": [
    "e_std_y, e_finite_y = [], []\n",
    "for i in range(0, step_sizes.shape[0]):\n",
    "    e_std_y.append(mean_squared_error([mean_grad_stds[i][1]], [true_grad[1]]))\n",
    "    e_finite_y.append(mean_squared_error([mean_grad_finites[i][1]], [true_grad[1]]))\n",
    "plt.plot(step_sizes, e_std_y, label = \"parameter-shift rule\")\n",
    "plt.plot(step_sizes, e_finite_y,  label = \"finite-different\")\n",
    "plt.xscale('log')\n",
    "plt.yscale('log')\n",
    "plt.xlabel(\"Step size\")\n",
    "plt.ylabel(\"MSE\")\n",
    "plt.legend()"
   ]
  }
 ],
 "metadata": {
  "kernelspec": {
   "display_name": "Python 3.8.0 64-bit",
   "language": "python",
   "name": "python3"
  },
  "language_info": {
   "codemirror_mode": {
    "name": "ipython",
    "version": 3
   },
   "file_extension": ".py",
   "mimetype": "text/x-python",
   "name": "python",
   "nbconvert_exporter": "python",
   "pygments_lexer": "ipython3",
   "version": "3.8.0"
  },
  "orig_nbformat": 4,
  "vscode": {
   "interpreter": {
    "hash": "b6314cf850edbae231b80224200c9e1580e03453e86236ed42ea1b49b1f8d2e3"
   }
  }
 },
 "nbformat": 4,
 "nbformat_minor": 2
}
