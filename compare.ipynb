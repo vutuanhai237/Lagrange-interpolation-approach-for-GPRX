{
 "cells": [
  {
   "cell_type": "markdown",
   "metadata": {},
   "source": [
    "<img src=\"./image/25.png\">"
   ]
  },
  {
   "cell_type": "code",
   "execution_count": 26,
   "metadata": {},
   "outputs": [],
   "source": [
    "import numpy as np\n",
    "\n",
    "\n",
    "def unit_vector(i, length):\n",
    "    unit_vector = np.zeros((length))\n",
    "    unit_vector[i] = 1\n",
    "    return unit_vector\n",
    "def second_derivative_2psr(cost_function, theta, i, j):\n",
    "    alpha1 = np.pi/4\n",
    "    beta1 = alpha1\n",
    "    alpha = alpha1\n",
    "    scalar_factor = 1/4*(np.sin(alpha)**2)\n",
    "    length = theta.shape[0]\n",
    "    k1 = cost_function(theta + alpha*(unit_vector(i, length) + unit_vector(j, length)))\n",
    "    k2 = -cost_function(theta + alpha*(unit_vector(i, length) - unit_vector(j, length)))\n",
    "    k3 = -cost_function(theta - alpha*(unit_vector(i, length) - unit_vector(j, length)))\n",
    "    k4 = cost_function(theta - alpha*(unit_vector(i, length) + unit_vector(j, length)))\n",
    "    return scalar_factor*(k1 + k2 + k3 + k4)"
   ]
  },
  {
   "cell_type": "markdown",
   "metadata": {},
   "source": [
    "<img src=\"./image/26.png\">"
   ]
  },
  {
   "cell_type": "code",
   "execution_count": 28,
   "metadata": {},
   "outputs": [],
   "source": [
    "import numpy as np\n",
    "\n",
    "\n",
    "def second_derivative_4psr(cost_function, theta, i, j):\n",
    "    alpha1 = np.pi/2\n",
    "    alpha2 = np.pi\n",
    "    d1 = 1j\n",
    "    d2 = 1j*(-1 + np.sqrt(2)) / 2\n",
    "    scalar_factor = (-1j/2)**2\n",
    "    length = theta.shape[0]\n",
    "    k1A = -1*(cost_function(theta + alpha1*unit_vector(i, length) + alpha1*unit_vector(j, length))\n",
    "    - cost_function(theta + alpha1*unit_vector(i, length) - alpha1*unit_vector(j, length)))\n",
    "    k1B = -1j*d2*(cost_function(theta + alpha1*unit_vector(i, length) + alpha2*unit_vector(j, length))\n",
    "    - cost_function(theta + alpha1*unit_vector(i, length) - alpha2*unit_vector(j, length)))\n",
    "\n",
    "    k2A = 1*(cost_function(theta - alpha1*unit_vector(i, length) + alpha1*unit_vector(j, length))\n",
    "    - cost_function(theta - alpha1*unit_vector(i, length) - alpha1*unit_vector(j, length)))\n",
    "    k2B = 1j*d2*(cost_function(theta - alpha1*unit_vector(i, length) + alpha2*unit_vector(j, length))\n",
    "    - cost_function(theta - alpha1*unit_vector(i, length) - alpha2*unit_vector(j, length)))\n",
    "\n",
    "    \n",
    "    \n",
    "    \n",
    "    k3A = -1j*d2*(cost_function(theta + alpha2*unit_vector(i, length) + alpha1*unit_vector(j, length))\n",
    "    - cost_function(theta + alpha2*unit_vector(i, length) - alpha1*unit_vector(j, length)))\n",
    "    k3B = (d2**2)*(cost_function(theta + alpha2*unit_vector(i, length) + alpha2*unit_vector(j, length))\n",
    "    + cost_function(theta + alpha2*unit_vector(i, length) - alpha2*unit_vector(j, length)))\n",
    "\n",
    "    k4A = 1j*d2*(cost_function(theta - alpha2*unit_vector(i, length) + alpha1*unit_vector(j, length))\n",
    "    - cost_function(theta - alpha2*unit_vector(i, length) - alpha1*unit_vector(j, length)))\n",
    "    k4B = -(d2**2)*(cost_function(theta - alpha2*unit_vector(i, length) + alpha2*unit_vector(j, length))\n",
    "    + cost_function(theta - alpha2*unit_vector(i, length) - alpha2*unit_vector(j, length)))\n",
    "\n",
    "    return scalar_factor*(k1A + k1B + k2A + k2B + k3A + k3B + k4A + k4B)"
   ]
  },
  {
   "cell_type": "markdown",
   "metadata": {},
   "source": [
    "<img src=\"./image/27.png\">"
   ]
  },
  {
   "cell_type": "markdown",
   "metadata": {},
   "source": [
    "<img src=\"./image/28.png\">"
   ]
  },
  {
   "cell_type": "code",
   "execution_count": 37,
   "metadata": {},
   "outputs": [
    {
     "name": "stdout",
     "output_type": "stream",
     "text": [
      "0.16594208965964133\n",
      "[[-0.02103125+0.j  0.        +0.j  0.        +0.j]\n",
      " [ 0.        +0.j  0.        +0.j  0.        +0.j]\n",
      " [ 0.        +0.j  0.        +0.j -0.00061174+0.j]]\n"
     ]
    }
   ],
   "source": [
    "import qiskit, numpy as np\n",
    "import base\n",
    "theta = np.random.uniform(low=0, high=2*np.pi, size=(3,))\n",
    "theta_x, theta_z, theta_y = theta\n",
    "def cost_function(theta):\n",
    "    qc = qiskit.QuantumCircuit(2,2)\n",
    "    qc.rx(theta[0], 0)\n",
    "    qc.rz(theta[1], 1)\n",
    "    qc.cry(theta[2], 0, 1)\n",
    "    return base.measure(qc, [0, 1])\n",
    "\n",
    "\n",
    "g = np.zeros((3,3), dtype=np.complex128)\n",
    "g[0, 0] = -1/2*second_derivative_2psr(cost_function, theta, 0, 0)\n",
    "g[2, 2] = -1/2*second_derivative_4psr(cost_function, theta, 2, 2)\n",
    "print(1/4*(np.sin(theta_x/2)**2))\n",
    "print(g)"
   ]
  },
  {
   "cell_type": "code",
   "execution_count": 36,
   "metadata": {},
   "outputs": [
    {
     "data": {
      "image/png": "[encoded data removed]",
      "text/plain": [
       "<Figure size 206.852x204.68 with 1 Axes>"
      ]
     },
     "execution_count": 36,
     "metadata": {},
     "output_type": "execute_result"
    }
   ],
   "source": [
    "qc = qiskit.QuantumCircuit(2,2)\n",
    "qc.rx(theta[0], 0)\n",
    "qc.rz(theta[1], 1)\n",
    "qc.cry(theta[2], 0, 1)\n",
    "qc.draw('mpl')"
   ]
  }
 ],
 "metadata": {
  "kernelspec": {
   "display_name": "Python 3.8.0 64-bit",
   "language": "python",
   "name": "python3"
  },
  "language_info": {
   "codemirror_mode": {
    "name": "ipython",
    "version": 3
   },
   "file_extension": ".py",
   "mimetype": "text/x-python",
   "name": "python",
   "nbconvert_exporter": "python",
   "pygments_lexer": "ipython3",
   "version": "3.8.0"
  },
  "orig_nbformat": 4,
  "vscode": {
   "interpreter": {
    "hash": "b6314cf850edbae231b80224200c9e1580e03453e86236ed42ea1b49b1f8d2e3"
   }
  }
 },
 "nbformat": 4,
 "nbformat_minor": 2
}
