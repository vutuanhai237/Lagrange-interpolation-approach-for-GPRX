{
 "cells": [
  {
   "cell_type": "markdown",
   "metadata": {},
   "source": [
    "<img src=\"./image/25.png\">"
   ]
  },
  {
   "cell_type": "markdown",
   "metadata": {},
   "source": [
    "<img src=\"./image/26.png\">"
   ]
  },
  {
   "cell_type": "markdown",
   "metadata": {},
   "source": [
    "<img src=\"./image/27.png\">"
   ]
  },
  {
   "cell_type": "markdown",
   "metadata": {},
   "source": [
    "<img src=\"./image/28.png\">"
   ]
  },
  {
   "cell_type": "code",
   "execution_count": 24,
   "metadata": {},
   "outputs": [
    {
     "name": "stdout",
     "output_type": "stream",
     "text": [
      "0.017148179662022305\n",
      "[[ 0.30555556+0.j  0.        +0.j  0.        +0.j]\n",
      " [ 0.        +0.j -0.        +0.j  0.        +0.j]\n",
      " [ 0.        +0.j  0.        +0.j  0.22222222+0.j]]\n"
     ]
    }
   ],
   "source": [
    "import qiskit, numpy as np\n",
    "import base\n",
    "thetas_origin = np.random.uniform(low=0, high=2*np.pi, size=(3,))\n",
    "thetas_x, thetas_z, thetas_y = thetas_origin\n",
    "def u(qc, thetas):\n",
    "    qc.rx(thetas[0], 0)\n",
    "    qc.rz(thetas[1], 1)\n",
    "    qc.cry(thetas[2], 0, 1)\n",
    "    return qc\n",
    "def udagger(qc, thetas):\n",
    "    qc.cry(-thetas[2], 0, 1)\n",
    "    qc.rz(-thetas[1], 1)\n",
    "    qc.rx(-thetas[0], 0)\n",
    "    return qc\n",
    "def cost_function(thetas):\n",
    "    qc = qiskit.QuantumCircuit(2,2)\n",
    "    qc = u(qc, thetas)\n",
    "    qc = udagger(qc, thetas_origin)\n",
    "    return base.measure(qc, [0, 1])\n",
    "    \n",
    "g = np.zeros((3,3), dtype=np.complex128)\n",
    "\n",
    "g[0, 0] = -1/2*base.second_derivative_2psr(cost_function, thetas_origin, 0, 0)\n",
    "g[1, 1] = -1/2*base.second_derivative_2psr(cost_function, thetas_origin, 1, 1)\n",
    "g[2, 2] = -1/2*base.second_derivative_4psr(cost_function, thetas_origin, 2, 2)\n",
    "print(1/(4*((thetas_x)**2)))\n",
    "print(g)"
   ]
  },
  {
   "cell_type": "code",
   "execution_count": 41,
   "metadata": {},
   "outputs": [
    {
     "name": "stdout",
     "output_type": "stream",
     "text": [
      "Statevector([1.00000000e+00+0.00000000e+00j,\n",
      "             0.00000000e+00-5.55111512e-17j,\n",
      "             4.81804622e-18+1.96983161e-17j,\n",
      "             7.49788795e-18-1.83392177e-18j],\n",
      "            dims=(2, 2))\n"
     ]
    },
    {
     "data": {
      "image/png": "[encoded data removed]",
      "text/plain": [
       "<Figure size 327.252x204.68 with 1 Axes>"
      ]
     },
     "execution_count": 41,
     "metadata": {},
     "output_type": "execute_result"
    }
   ],
   "source": [
    "thetas = np.random.uniform(low=0, high=2*np.pi, size=(3,))\n",
    "qc = qiskit.QuantumCircuit(2,2)\n",
    "qc = u(qc, thetas_origin)\n",
    "qc = udagger(qc, thetas)\n",
    "print(qiskit.quantum_info.Statevector(qc))\n",
    "qc.draw('mpl')"
   ]
  }
 ],
 "metadata": {
  "kernelspec": {
   "display_name": "Python 3.8.0 64-bit",
   "language": "python",
   "name": "python3"
  },
  "language_info": {
   "codemirror_mode": {
    "name": "ipython",
    "version": 3
   },
   "file_extension": ".py",
   "mimetype": "text/x-python",
   "name": "python",
   "nbconvert_exporter": "python",
   "pygments_lexer": "ipython3",
   "version": "3.8.0"
  },
  "orig_nbformat": 4,
  "vscode": {
   "interpreter": {
    "hash": "b6314cf850edbae231b80224200c9e1580e03453e86236ed42ea1b49b1f8d2e3"
   }
  }
 },
 "nbformat": 4,
 "nbformat_minor": 2
}
