{
 "cells": [
  {
   "cell_type": "code",
   "execution_count": 18,
   "metadata": {},
   "outputs": [],
   "source": [
    "import tqix, constant, base\n",
    "import numpy as np\n",
    "import importlib\n",
    "importlib.reload(constant)\n",
    "importlib.reload(base)\n",
    "n = 5\n",
    "lambdax = 0.05\n",
    "hs = [-0.1, 0, 0.1]\n",
    "\n",
    "def H_LMG(h, lambdax, n, Jx, Jy, Jz):\n",
    "    return -2*h*Jz - 2*lambdax/n*(Jx**2 - Jy**2)\n",
    "\n",
    "# def get_psi(thetas, n):\n",
    "#     qc = qiskit.QuantumCircuit(n)\n",
    "#     for i in range(0, n, 3):\n",
    "#         qc.rx(thetas[i], 0)\n",
    "#         qc.rz(thetas[i + 1], 1)\n",
    "#         qc.rx(thetas[i + 2], 2)\n",
    "#     return qiskit.quantum_info.Statevector.from_instruction(qc).data\n",
    "\n",
    "def cost_function(thetas):\n",
    "\n",
    "    qc = tqix.circuit(n)\n",
    "    for i in range(0, n):\n",
    "        qc.RX(thetas[i], i)\n",
    "        qc.RZ(thetas[i + n], i)\n",
    "        qc.RX(thetas[i + 2 * n], i)\n",
    "        \n",
    "    Jx = qc.Jx()\n",
    "    Jy = qc.Jy()\n",
    "    Jz = qc.Jz()\n",
    "    print(\"Jx: \", Jx.toarray())\n",
    "    print(\"Jy: \", Jy.toarray())\n",
    "    print(\"Jz: \", Jz.toarray())\n",
    "    h_LMG = H_LMG(hs[0], lambdax, n, Jx, Jy, Jz)\n",
    "    psi = qc.state\n",
    "    return (np.trace((h_LMG @ psi).toarray()))\n",
    "\n",
    "# costs = []\n",
    "# thetas = np.ones(n*3)\n",
    "# for i in range(0, 30):\n",
    "#     thetas = thetas - constant.learning_rate*base.two_prx(cost_function, thetas)\n",
    "#     print(base.two_prx(cost_function, thetas))\n",
    "#     costs.append(cost_function(thetas))"
   ]
  },
  {
   "cell_type": "code",
   "execution_count": 19,
   "metadata": {},
   "outputs": [
    {
     "name": "stdout",
     "output_type": "stream",
     "text": [
      "Jx:  [[0.         1.11803399 0.         0.         0.         0.        ]\n",
      " [1.11803399 0.         1.41421356 0.         0.         0.        ]\n",
      " [0.         1.41421356 0.         1.5        0.         0.        ]\n",
      " [0.         0.         1.5        0.         1.41421356 0.        ]\n",
      " [0.         0.         0.         1.41421356 0.         1.11803399]\n",
      " [0.         0.         0.         0.         1.11803399 0.        ]]\n",
      "Jy:  [[0.+0.j         0.-1.11803399j 0.+0.j         0.+0.j\n",
      "  0.+0.j         0.+0.j        ]\n",
      " [0.+1.11803399j 0.+0.j         0.-1.41421356j 0.+0.j\n",
      "  0.+0.j         0.+0.j        ]\n",
      " [0.+0.j         0.+1.41421356j 0.+0.j         0.-1.5j\n",
      "  0.+0.j         0.+0.j        ]\n",
      " [0.+0.j         0.+0.j         0.+1.5j        0.+0.j\n",
      "  0.-1.41421356j 0.+0.j        ]\n",
      " [0.+0.j         0.+0.j         0.+0.j         0.+1.41421356j\n",
      "  0.+0.j         0.-1.11803399j]\n",
      " [0.+0.j         0.+0.j         0.+0.j         0.+0.j\n",
      "  0.+1.11803399j 0.+0.j        ]]\n",
      "Jz:  [[ 2.5  0.   0.   0.   0.   0. ]\n",
      " [ 0.   1.5  0.   0.   0.   0. ]\n",
      " [ 0.   0.   0.5  0.   0.   0. ]\n",
      " [ 0.   0.   0.  -0.5  0.   0. ]\n",
      " [ 0.   0.   0.   0.  -1.5  0. ]\n",
      " [ 0.   0.   0.   0.   0.  -2.5]]\n"
     ]
    },
    {
     "data": {
      "text/plain": [
       "(-0.49979743540720084-2.1692513779182632e-17j)"
      ]
     },
     "execution_count": 19,
     "metadata": {},
     "output_type": "execute_result"
    }
   ],
   "source": [
    "cost_function(thetas)"
   ]
  },
  {
   "cell_type": "code",
   "execution_count": 15,
   "metadata": {},
   "outputs": [
    {
     "data": {
      "text/plain": [
       "(-0.49979743540720084-2.1692513779182632e-17j)"
      ]
     },
     "execution_count": 15,
     "metadata": {},
     "output_type": "execute_result"
    }
   ],
   "source": [
    "np.min(costs)"
   ]
  },
  {
   "cell_type": "code",
   "execution_count": 10,
   "metadata": {},
   "outputs": [
    {
     "data": {
      "image/png": "[encoded data removed]",
      "text/plain": [
       "<Figure size 267.197x325.08 with 1 Axes>"
      ]
     },
     "execution_count": 10,
     "metadata": {},
     "output_type": "execute_result"
    }
   ],
   "source": [
    "import qiskit\n",
    "n = 5\n",
    "thetas = np.zeros(3*n)\n",
    "for i in range(0, thetas.shape[0]):\n",
    "    thetas[i] += i\n",
    "qc = qiskit.QuantumCircuit(n)\n",
    "for i in range(0, n):\n",
    "    qc.rx(thetas[i], i)\n",
    "    qc.rz(thetas[i+n], i)\n",
    "    qc.rx(thetas[i+2*n], i)\n",
    "qc.draw('mpl')"
   ]
  }
 ],
 "metadata": {
  "kernelspec": {
   "display_name": "Python 3.8.0 64-bit",
   "language": "python",
   "name": "python3"
  },
  "language_info": {
   "codemirror_mode": {
    "name": "ipython",
    "version": 3
   },
   "file_extension": ".py",
   "mimetype": "text/x-python",
   "name": "python",
   "nbconvert_exporter": "python",
   "pygments_lexer": "ipython3",
   "version": "3.8.0"
  },
  "orig_nbformat": 4,
  "vscode": {
   "interpreter": {
    "hash": "b6314cf850edbae231b80224200c9e1580e03453e86236ed42ea1b49b1f8d2e3"
   }
  }
 },
 "nbformat": 4,
 "nbformat_minor": 2
}
