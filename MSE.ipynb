{
 "cells": [
  {
   "cell_type": "markdown",
   "metadata": {},
   "source": [
    "Numberical simulation"
   ]
  },
  {
   "cell_type": "code",
   "execution_count": 67,
   "metadata": {},
   "outputs": [],
   "source": [
    "import importlib\n",
    "importlib.reload(constant)\n",
    "importlib.reload(base)\n",
    "import base, constant\n",
    "import numpy as np, qiskit\n",
    "from sklearn.metrics import mean_squared_error\n",
    "import matplotlib.pyplot as plt\n",
    "h = 10**(-10)\n"
   ]
  },
  {
   "cell_type": "code",
   "execution_count": 68,
   "metadata": {},
   "outputs": [
    {
     "name": "stdout",
     "output_type": "stream",
     "text": [
      "0.01\n",
      "0.11\n",
      "0.21000000000000002\n",
      "0.31000000000000005\n",
      "0.41000000000000003\n",
      "0.51\n",
      "0.6100000000000001\n",
      "0.7100000000000001\n",
      "0.81\n",
      "0.91\n"
     ]
    }
   ],
   "source": [
    "step_sizes = np.arange(10**(-2), 1, 10**(-1))\n",
    "thetas_origin = np.random.uniform(low=0, high=2*np.pi, size=(3,))\n",
    "thetas_x, thetas_z, thetas_y = thetas_origin\n",
    "def u(qc, thetas):\n",
    "    qc.rx(thetas[0], 0)\n",
    "    qc.rz(thetas[1], 1)\n",
    "    qc.cry(thetas[2], 0, 1)\n",
    "    return qc\n",
    "def udagger(qc, thetas):\n",
    "    qc.cry(-thetas[2], 0, 1)\n",
    "    qc.rz(-thetas[1], 1)\n",
    "    qc.rx(-thetas[0], 0)\n",
    "    return qc\n",
    "def f(thetas):\n",
    "    qc = qiskit.QuantumCircuit(2,2)\n",
    "    qc = u(qc, thetas)\n",
    "    qc = udagger(qc, thetas_origin)\n",
    "    return base.measure(qc, [0, 1])\n",
    "\n",
    "e_std = []\n",
    "\n",
    "# for j in range(thetas_origin.shape[0]):\n",
    "    #if j != 2: \n",
    "    \n",
    "    # else:\n",
    "    #     grad_std.append(four_prx(f, thetas_origin, j))\n",
    "\n",
    "mean_grad_stds = []\n",
    "mean_grad_finites = []\n",
    "for step_size in step_sizes:\n",
    "    print(step_size)\n",
    "    grad_finites = []\n",
    "    grad_stds = []\n",
    "\n",
    "    for _ in range(0, 10):\n",
    "        grad_finite = []\n",
    "        grad_std = []\n",
    "        for j in range(thetas_origin.shape[0]):\n",
    "            if j != 2:\n",
    "                grad_std.append(base.two_prx(f, thetas_origin, j))\n",
    "                grad_finite.append(base.two_finite_diff(f, thetas_origin, j, step_size))\n",
    "            else:\n",
    "                grad_std.append(base.four_prx(f, thetas_origin, j))\n",
    "                grad_finite.append(base.four_finite_diff(f, thetas_origin, j, step_size))\n",
    "        grad_finites.append(grad_finite)\n",
    "        grad_stds.append(grad_std)\n",
    "    \n",
    "    mean_grad_stds.append(np.mean(grad_stds,axis = 0))\n",
    "    mean_grad_finites.append(np.mean(grad_finites,axis = 0))\n",
    "np.savetxt('mean_grad_stds.txt', mean_grad_stds)\n",
    "np.savetxt('mean_grad_finites.txt', mean_grad_finites)\n",
    "for i in range(0, step_sizes.shape[0]):\n",
    "    e_std.append(mean_squared_error(mean_grad_stds[i], mean_grad_finites[i]))"
   ]
  },
  {
   "cell_type": "code",
   "execution_count": 71,
   "metadata": {},
   "outputs": [],
   "source": [
    "step_sizes = np.arange(10**(-2), 1, 10**(-1))\n",
    "mean_grad_stds = np.asarray(np.loadtxt('mean_grad_stds.txt'))\n",
    "mean_grad_finites = np.asarray(np.loadtxt('mean_grad_finites.txt'))\n",
    "e_std = []\n",
    "for i in range(0, 10):\n",
    "    e_std.append(mean_squared_error(mean_grad_stds[i], mean_grad_finites[i]))"
   ]
  },
  {
   "cell_type": "code",
   "execution_count": 72,
   "metadata": {},
   "outputs": [
    {
     "name": "stderr",
     "output_type": "stream",
     "text": [
      "No artists with labels found to put in legend.  Note that artists whose label start with an underscore are ignored when legend() is called with no argument.\n"
     ]
    },
    {
     "data": {
      "text/plain": [
       "<matplotlib.legend.Legend at 0x1f871331820>"
      ]
     },
     "execution_count": 72,
     "metadata": {},
     "output_type": "execute_result"
    },
    {
     "data": {
      "image/png": "[encoded data removed]",
      "text/plain": [
       "<Figure size 432x288 with 1 Axes>"
      ]
     },
     "metadata": {
      "needs_background": "light"
     },
     "output_type": "display_data"
    }
   ],
   "source": [
    "plt.plot(step_sizes, e_std)\n",
    "plt.xlabel(\"Step size\")\n",
    "plt.ylabel(\"MSE\")\n",
    "plt.xscale('log')\n",
    "plt.yscale('log')\n",
    "plt.legend()"
   ]
  }
 ],
 "metadata": {
  "kernelspec": {
   "display_name": "Python 3.8.0 64-bit",
   "language": "python",
   "name": "python3"
  },
  "language_info": {
   "codemirror_mode": {
    "name": "ipython",
    "version": 3
   },
   "file_extension": ".py",
   "mimetype": "text/x-python",
   "name": "python",
   "nbconvert_exporter": "python",
   "pygments_lexer": "ipython3",
   "version": "3.8.0"
  },
  "orig_nbformat": 4,
  "vscode": {
   "interpreter": {
    "hash": "b6314cf850edbae231b80224200c9e1580e03453e86236ed42ea1b49b1f8d2e3"
   }
  }
 },
 "nbformat": 4,
 "nbformat_minor": 2
}
