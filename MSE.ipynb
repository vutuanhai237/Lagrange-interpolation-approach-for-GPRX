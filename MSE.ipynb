{
 "cells": [
  {
   "cell_type": "markdown",
   "metadata": {},
   "source": [
    "Numberical simulation"
   ]
  },
  {
   "cell_type": "code",
   "execution_count": 75,
   "metadata": {},
   "outputs": [
    {
     "data": {
      "text/plain": [
       "<module 'base' from 'c:\\\\Users\\\\haime\\\\OneDrive\\\\Documents\\\\GitHub\\\\Lagrange interpolation approach for GPRX\\\\base.py'>"
      ]
     },
     "execution_count": 75,
     "metadata": {},
     "output_type": "execute_result"
    }
   ],
   "source": [
    "import base, constant\n",
    "import numpy as np, qiskit\n",
    "from sklearn.metrics import mean_squared_error\n",
    "import matplotlib.pyplot as plt\n",
    "import importlib\n",
    "importlib.reload(constant)\n",
    "importlib.reload(base)"
   ]
  },
  {
   "cell_type": "code",
   "execution_count": 70,
   "metadata": {},
   "outputs": [
    {
     "name": "stdout",
     "output_type": "stream",
     "text": [
      "0.01\n",
      "0.11\n",
      "0.21100000000000002\n",
      "0.31301\n",
      "0.4160401\n",
      "0.520100501\n",
      "0.62520150601\n",
      "0.7313535210701\n",
      "0.838567056280801\n",
      "0.946852726843609\n",
      "1.056221254112045\n",
      "1.1666834666531656\n",
      "1.2782503013196973\n",
      "1.3909328043328943\n",
      "1.5047421323762233\n",
      "1.6196895536999856\n",
      "1.7357864492369854\n",
      "1.8530443137293553\n",
      "1.9714747568666489\n",
      "2.0910895044353155\n",
      "2.211900399479669\n",
      "2.3339194034744657\n",
      "2.4571585975092103\n",
      "2.5816301834843025\n",
      "2.7073464853191456\n",
      "2.834319950172337\n",
      "2.9625631496740605\n"
     ]
    }
   ],
   "source": [
    "step_sizes = base.create_log_step_sizes(0.01, 3, 0.01)\n",
    "thetas = np.asarray([np.pi/2, np.pi/3, np.pi/6])\n",
    "def u(qc, thetas):\n",
    "    qc.rx(thetas[0], 0)\n",
    "    qc.rz(thetas[1], 1)\n",
    "    qc.cry(thetas[2], 0, 1)\n",
    "    return qc\n",
    "def f(thetas):\n",
    "    qc = qiskit.QuantumCircuit(2,2)\n",
    "    qc = u(qc, thetas)\n",
    "    return base.measure(qc, [0, 1])\n",
    "\n",
    "true_grad = base.true_grad(thetas)\n",
    "\n",
    "mean_MSE_stds = []\n",
    "mean_MSE_finites = []\n",
    "std_MSE_stds = []\n",
    "std_MSE_finites = []\n",
    "for step_size in step_sizes:\n",
    "    print(step_size)\n",
    "    grad_finites = []\n",
    "    grad_stds = []\n",
    "\n",
    "    for _ in range(0, 5):\n",
    "        grad_finite = []\n",
    "        grad_std = []\n",
    "        for j in range(0, thetas.shape[0]):\n",
    "            length = thetas.shape[0]\n",
    "            f_left = f(thetas + step_size * base.unit_vector(j, length))\n",
    "            f_right = f(thetas + step_size * base.unit_vector(j, length))\n",
    "            if j != 2:\n",
    "                grad_std.append(base.a_pseudo_two_prx(f_left, f_right, step_size))\n",
    "                # grad_finite.append(base.two_finite_diff(f, thetas_origin, j, step_size))\n",
    "            else:\n",
    "                grad_std.append(base.pseudo_four_prx(f, thetas, j))\n",
    "            grad_finite.append(base.a_two_finite_diff(f_left, f_right, step_size))\n",
    "        grad_stds.append(mean_squared_error(grad_std, true_grad))\n",
    "        grad_finites.append(mean_squared_error(grad_finite, true_grad))\n",
    "    mean_MSE_stds.append(np.mean(grad_stds,axis = 0))\n",
    "    std_MSE_stds.append(np.std(grad_stds,axis = 0))\n",
    "\n",
    "    mean_MSE_finites.append(np.mean(grad_finites,axis = 0))\n",
    "    std_MSE_finites.append(np.std(grad_finites,axis = 0))\n",
    "\n",
    "np.savetxt('mean_MSE_stds.txt', mean_MSE_stds)\n",
    "np.savetxt('std_MSE_stds.txt', std_MSE_stds)\n",
    "np.savetxt('mean_MSE_finites.txt', mean_MSE_finites)\n",
    "np.savetxt('std_MSE_finites.txt', std_MSE_finites)"
   ]
  },
  {
   "cell_type": "code",
   "execution_count": 32,
   "metadata": {},
   "outputs": [],
   "source": [
    "step_sizes = np.arange(10**(-2), 1, 10**(-1))\n",
    "mean_grad_stds = np.asarray(np.loadtxt('mean_grad_stds.txt'))\n",
    "mean_grad_finites = np.asarray(np.loadtxt('mean_grad_finites.txt'))\n",
    "e_std = []\n",
    "for i in range(0, mean_grad_stds.shape[0]):\n",
    "    e_std.append(mean_squared_error(mean_grad_stds[i], mean_grad_finites[i]))"
   ]
  },
  {
   "cell_type": "markdown",
   "metadata": {},
   "source": [
    "### Mean "
   ]
  },
  {
   "cell_type": "code",
   "execution_count": 77,
   "metadata": {},
   "outputs": [
    {
     "data": {
      "text/plain": [
       "<matplotlib.legend.Legend at 0x213221a1fa0>"
      ]
     },
     "execution_count": 77,
     "metadata": {},
     "output_type": "execute_result"
    },
    {
     "data": {
      "image/png": "[encoded data removed]",
      "text/plain": [
       "<Figure size 432x288 with 1 Axes>"
      ]
     },
     "metadata": {
      "needs_background": "light"
     },
     "output_type": "display_data"
    }
   ],
   "source": [
    "mean_MSE_stds = np.asarray(np.loadtxt('mean_MSE_stds.txt'))\n",
    "std_MSE_stds = np.asarray(np.loadtxt('std_MSE_stds.txt'))\n",
    "mean_MSE_finites = np.asarray(np.loadtxt('mean_MSE_finites.txt'))\n",
    "std_MSE_finites = np.asarray(np.loadtxt('std_MSE_finites.txt'))\n",
    "\n",
    "step_sizes = base.create_log_step_sizes(0.01, 3, 0.01)\n",
    "mean_MSE_stds = np.asarray(mean_MSE_stds)\n",
    "std_MSE_stds = np.asarray(std_MSE_stds)\n",
    "mean_MSE_finites = np.asarray(mean_MSE_finites)\n",
    "std_MSE_finites = np.asarray(std_MSE_finites)\n",
    "plt.plot(step_sizes, mean_MSE_stds, label = \"parameter-shift rule\")\n",
    "plt.fill_between(step_sizes, mean_MSE_stds - std_MSE_stds, mean_MSE_stds + std_MSE_stds, alpha=0.1)\n",
    "plt.plot(step_sizes, mean_MSE_finites,  label = \"finite-different\")\n",
    "plt.fill_between(step_sizes, mean_MSE_finites - std_MSE_finites, mean_MSE_finites + std_MSE_finites, alpha=0.1)\n",
    "plt.xscale('log')\n",
    "plt.yscale('log')\n",
    "plt.xlabel(\"Step size\")\n",
    "plt.ylabel(\"MSE\")\n",
    "plt.legend()"
   ]
  },
  {
   "cell_type": "markdown",
   "metadata": {},
   "source": [
    "### X"
   ]
  },
  {
   "cell_type": "code",
   "execution_count": 56,
   "metadata": {},
   "outputs": [
    {
     "data": {
      "text/plain": [
       "<matplotlib.legend.Legend at 0x2131c0db370>"
      ]
     },
     "execution_count": 56,
     "metadata": {},
     "output_type": "execute_result"
    },
    {
     "data": {
      "image/png": "[encoded data removed]",
      "text/plain": [
       "<Figure size 432x288 with 1 Axes>"
      ]
     },
     "metadata": {
      "needs_background": "light"
     },
     "output_type": "display_data"
    }
   ],
   "source": [
    "plt.plot(step_sizes, mean_MSE_stds, label = \"parameter-shift rule\")\n",
    "plt.fill_between(step_sizes, mean_MSE_stds - std_MSE_stds, mean_MSE_stds + std_MSE_stds, alpha=0.1)\n",
    "plt.plot(step_sizes, mean_MSE_finites,  label = \"finite-different\")\n",
    "plt.fill_between(step_sizes, mean_MSE_finites - std_MSE_finites, mean_MSE_finites + std_MSE_finites, alpha=0.1)\n",
    "plt.xscale('log')\n",
    "plt.yscale('log')\n",
    "plt.xlabel(\"Step size\")\n",
    "plt.ylabel(\"MSE\")\n",
    "plt.legend()"
   ]
  },
  {
   "cell_type": "markdown",
   "metadata": {},
   "source": [
    "### Y"
   ]
  },
  {
   "cell_type": "code",
   "execution_count": 57,
   "metadata": {},
   "outputs": [
    {
     "data": {
      "text/plain": [
       "<matplotlib.legend.Legend at 0x2131c2acbe0>"
      ]
     },
     "execution_count": 57,
     "metadata": {},
     "output_type": "execute_result"
    },
    {
     "data": {
      "image/png": "[encoded data removed]",
      "text/plain": [
       "<Figure size 432x288 with 1 Axes>"
      ]
     },
     "metadata": {
      "needs_background": "light"
     },
     "output_type": "display_data"
    }
   ],
   "source": [
    "e_std_y, e_finite_y = [], []\n",
    "for i in range(0, step_sizes.shape[0]):\n",
    "    e_std_y.append(mean_squared_error([mean_grad_stds[i][1]], [true_grad[1]]))\n",
    "    e_finite_y.append(mean_squared_error([mean_grad_finites[i][1]], [true_grad[1]]))\n",
    "plt.plot(step_sizes, e_std_y, label = \"parameter-shift rule\")\n",
    "plt.plot(step_sizes, e_finite_y,  label = \"finite-different\")\n",
    "plt.xscale('log')\n",
    "plt.yscale('log')\n",
    "plt.xlabel(\"Step size\")\n",
    "plt.ylabel(\"MSE\")\n",
    "plt.legend()"
   ]
  }
 ],
 "metadata": {
  "kernelspec": {
   "display_name": "Python 3.8.0 64-bit",
   "language": "python",
   "name": "python3"
  },
  "language_info": {
   "codemirror_mode": {
    "name": "ipython",
    "version": 3
   },
   "file_extension": ".py",
   "mimetype": "text/x-python",
   "name": "python",
   "nbconvert_exporter": "python",
   "pygments_lexer": "ipython3",
   "version": "3.8.0"
  },
  "orig_nbformat": 4,
  "vscode": {
   "interpreter": {
    "hash": "b6314cf850edbae231b80224200c9e1580e03453e86236ed42ea1b49b1f8d2e3"
   }
  }
 },
 "nbformat": 4,
 "nbformat_minor": 2
}
