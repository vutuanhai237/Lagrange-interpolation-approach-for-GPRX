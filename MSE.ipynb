{
 "cells": [
  {
   "cell_type": "markdown",
   "metadata": {},
   "source": [
    "Numberical simulation"
   ]
  },
  {
   "cell_type": "code",
   "execution_count": 19,
   "metadata": {},
   "outputs": [
    {
     "data": {
      "text/plain": [
       "<module 'base' from 'c:\\\\Users\\\\haime\\\\OneDrive\\\\Documents\\\\GitHub\\\\Lagrange interpolation approach for GPRX\\\\base.py'>"
      ]
     },
     "execution_count": 19,
     "metadata": {},
     "output_type": "execute_result"
    }
   ],
   "source": [
    "import base, constant\n",
    "import numpy as np, qiskit\n",
    "from sklearn.metrics import mean_squared_error\n",
    "import matplotlib.pyplot as plt\n",
    "import importlib\n",
    "importlib.reload(constant)\n",
    "importlib.reload(base)\n"
   ]
  },
  {
   "cell_type": "code",
   "execution_count": 31,
   "metadata": {},
   "outputs": [
    {
     "name": "stdout",
     "output_type": "stream",
     "text": [
      "[-0.25       0.4330127  0.       ]\n",
      "0.01\n",
      "0.03\n",
      "0.049999999999999996\n",
      "0.06999999999999999\n",
      "0.08999999999999998\n",
      "0.10999999999999997\n",
      "0.12999999999999998\n",
      "0.15\n",
      "0.16999999999999998\n",
      "0.18999999999999997\n",
      "0.20999999999999996\n",
      "0.22999999999999998\n",
      "0.24999999999999997\n",
      "0.26999999999999996\n",
      "0.29\n",
      "0.30999999999999994\n",
      "0.32999999999999996\n",
      "0.35\n",
      "0.36999999999999994\n",
      "0.38999999999999996\n",
      "0.4099999999999999\n",
      "0.42999999999999994\n",
      "0.44999999999999996\n",
      "0.4699999999999999\n",
      "0.48999999999999994\n",
      "0.5099999999999999\n",
      "0.5299999999999999\n",
      "0.5499999999999999\n",
      "0.57\n",
      "0.59\n",
      "0.6099999999999999\n",
      "0.6299999999999999\n",
      "0.6499999999999999\n",
      "0.6699999999999999\n",
      "0.69\n",
      "0.7099999999999999\n",
      "0.7299999999999999\n",
      "0.7499999999999999\n",
      "0.7699999999999999\n",
      "0.7899999999999999\n",
      "0.8099999999999998\n",
      "0.8299999999999998\n",
      "0.8499999999999999\n",
      "0.8699999999999999\n",
      "0.8899999999999999\n",
      "0.9099999999999999\n",
      "0.9299999999999998\n",
      "0.9499999999999998\n",
      "0.9699999999999999\n",
      "0.9899999999999999\n",
      "1.0099999999999998\n",
      "1.0299999999999998\n",
      "1.0499999999999998\n",
      "1.0699999999999998\n",
      "1.0899999999999999\n",
      "1.1099999999999999\n",
      "1.13\n",
      "1.15\n",
      "1.17\n",
      "1.1899999999999997\n",
      "1.2099999999999997\n",
      "1.2299999999999998\n",
      "1.2499999999999998\n",
      "1.2699999999999998\n",
      "1.2899999999999998\n",
      "1.3099999999999998\n",
      "1.3299999999999998\n",
      "1.3499999999999999\n",
      "1.3699999999999999\n",
      "1.39\n",
      "1.4099999999999997\n",
      "1.4299999999999997\n",
      "1.4499999999999997\n",
      "1.4699999999999998\n",
      "1.4899999999999998\n",
      "1.5099999999999998\n",
      "1.5299999999999998\n",
      "1.5499999999999998\n",
      "1.5699999999999998\n",
      "1.5899999999999999\n",
      "1.6099999999999997\n",
      "1.6299999999999997\n",
      "1.6499999999999997\n",
      "1.6699999999999997\n",
      "1.6899999999999997\n",
      "1.7099999999999997\n",
      "1.7299999999999998\n",
      "1.7499999999999998\n",
      "1.7699999999999998\n",
      "1.7899999999999998\n",
      "1.8099999999999998\n",
      "1.8299999999999996\n",
      "1.8499999999999996\n",
      "1.8699999999999997\n",
      "1.8899999999999997\n",
      "1.9099999999999997\n",
      "1.9299999999999997\n",
      "1.9499999999999997\n",
      "1.9699999999999998\n",
      "1.9899999999999998\n",
      "2.01\n",
      "2.0299999999999994\n",
      "2.0499999999999994\n",
      "2.0699999999999994\n",
      "2.0899999999999994\n",
      "2.1099999999999994\n",
      "2.1299999999999994\n",
      "2.1499999999999995\n",
      "2.1699999999999995\n",
      "2.1899999999999995\n",
      "2.2099999999999995\n",
      "2.2299999999999995\n",
      "2.2499999999999996\n",
      "2.2699999999999996\n",
      "2.2899999999999996\n",
      "2.3099999999999996\n",
      "2.3299999999999996\n",
      "2.3499999999999996\n",
      "2.369999999999999\n",
      "2.3899999999999992\n",
      "2.4099999999999993\n",
      "2.4299999999999993\n",
      "2.4499999999999993\n",
      "2.4699999999999993\n",
      "2.4899999999999993\n",
      "2.5099999999999993\n",
      "2.5299999999999994\n",
      "2.5499999999999994\n",
      "2.5699999999999994\n",
      "2.5899999999999994\n",
      "2.6099999999999994\n",
      "2.6299999999999994\n",
      "2.6499999999999995\n",
      "2.6699999999999995\n",
      "2.6899999999999995\n",
      "2.7099999999999995\n",
      "2.7299999999999995\n",
      "2.7499999999999996\n",
      "2.7699999999999996\n",
      "2.789999999999999\n",
      "2.809999999999999\n",
      "2.829999999999999\n",
      "2.849999999999999\n",
      "2.869999999999999\n",
      "2.8899999999999992\n",
      "2.9099999999999993\n",
      "2.9299999999999993\n",
      "2.9499999999999993\n",
      "2.9699999999999993\n",
      "2.9899999999999993\n"
     ]
    }
   ],
   "source": [
    "step_sizes = np.arange(10**(-2), 3, 2*10**(-2))\n",
    "thetas_origin = np.asarray([np.pi/2, np.pi/3, np.pi/6])\n",
    "thetas_x, thetas_z, thetas_y = thetas_origin\n",
    "def u(qc, thetas):\n",
    "    qc.rx(thetas[0], 0)\n",
    "    qc.rz(thetas[1], 1)\n",
    "    qc.cry(thetas[2], 0, 1)\n",
    "    return qc\n",
    "def f(thetas):\n",
    "    qc = qiskit.QuantumCircuit(2,2)\n",
    "    qc = u(qc, thetas)\n",
    "    # qc = udagger(qc, thetas_origin)\n",
    "    return base.measure(qc, [0, 1])\n",
    "\n",
    "\n",
    "\n",
    "true_grad = base.true_grad(thetas_origin)\n",
    "print(true_grad)\n",
    "mean_grad_stds = []\n",
    "mean_grad_finites = []\n",
    "for step_size in step_sizes:\n",
    "    print(step_size)\n",
    "    grad_finites = []\n",
    "    grad_stds = []\n",
    "\n",
    "    for _ in range(0, 10):\n",
    "        grad_finite = []\n",
    "        grad_std = []\n",
    "        for j in range(thetas_origin.shape[0]):\n",
    "            if j != 2:\n",
    "                grad_std.append(base.pseudo_two_prx(f, thetas_origin, j, step_size))\n",
    "                # grad_finite.append(base.two_finite_diff(f, thetas_origin, j, step_size))\n",
    "            else:\n",
    "                grad_std.append(base.pseudo_four_prx(f, thetas_origin, j, step_size))\n",
    "            grad_finite.append(base.two_finite_diff(f, thetas_origin, j, step_size))\n",
    "        grad_finites.append(grad_finite)\n",
    "        grad_stds.append(grad_std)\n",
    "    \n",
    "    mean_grad_stds.append(np.mean(grad_stds,axis = 0))\n",
    "    mean_grad_finites.append(np.mean(grad_finites,axis = 0))\n",
    "np.savetxt('mean_grad_stds.txt', mean_grad_stds)\n",
    "np.savetxt('mean_grad_finites.txt', mean_grad_finites)\n"
   ]
  },
  {
   "cell_type": "code",
   "execution_count": 32,
   "metadata": {},
   "outputs": [],
   "source": [
    "step_sizes = np.arange(10**(-2), 1, 10**(-1))\n",
    "mean_grad_stds = np.asarray(np.loadtxt('mean_grad_stds.txt'))\n",
    "mean_grad_finites = np.asarray(np.loadtxt('mean_grad_finites.txt'))\n",
    "e_std = []\n",
    "for i in range(0, mean_grad_stds.shape[0]):\n",
    "    e_std.append(mean_squared_error(mean_grad_stds[i], mean_grad_finites[i]))"
   ]
  },
  {
   "cell_type": "code",
   "execution_count": 43,
   "metadata": {},
   "outputs": [
    {
     "data": {
      "text/plain": [
       "(150, 3)"
      ]
     },
     "execution_count": 43,
     "metadata": {},
     "output_type": "execute_result"
    }
   ],
   "source": [
    "mean_grad_stds.shape"
   ]
  },
  {
   "cell_type": "markdown",
   "metadata": {},
   "source": [
    "### Mean "
   ]
  },
  {
   "cell_type": "code",
   "execution_count": 44,
   "metadata": {},
   "outputs": [
    {
     "data": {
      "text/plain": [
       "<matplotlib.legend.Legend at 0x182960ca280>"
      ]
     },
     "execution_count": 44,
     "metadata": {},
     "output_type": "execute_result"
    },
    {
     "data": {
      "image/png": "[encoded data removed]",
      "text/plain": [
       "<Figure size 432x288 with 1 Axes>"
      ]
     },
     "metadata": {
      "needs_background": "light"
     },
     "output_type": "display_data"
    }
   ],
   "source": [
    "e_std, e_finite = [], []\n",
    "step_sizes = np.arange(10**(-2), 3, 2*10**(-2))\n",
    "for i in range(0, mean_grad_stds.shape[0]):\n",
    "    e_std.append(mean_squared_error(mean_grad_stds[i], true_grad))\n",
    "    e_finite.append(mean_squared_error(mean_grad_finites[i], true_grad))\n",
    "plt.plot(step_sizes, e_std, label = \"parameter-shift rule\")\n",
    "plt.plot(step_sizes, e_finite,  label = \"finite-different\")\n",
    "\n",
    "plt.xscale('log')\n",
    "plt.yscale('log')\n",
    "plt.xlabel(\"Step size\")\n",
    "plt.ylabel(\"MSE\")\n",
    "plt.legend()"
   ]
  },
  {
   "cell_type": "markdown",
   "metadata": {},
   "source": [
    "### X"
   ]
  },
  {
   "cell_type": "code",
   "execution_count": 45,
   "metadata": {},
   "outputs": [
    {
     "data": {
      "text/plain": [
       "<matplotlib.legend.Legend at 0x182961ee820>"
      ]
     },
     "execution_count": 45,
     "metadata": {},
     "output_type": "execute_result"
    },
    {
     "data": {
      "image/png": "[encoded data removed]",
      "text/plain": [
       "<Figure size 432x288 with 1 Axes>"
      ]
     },
     "metadata": {
      "needs_background": "light"
     },
     "output_type": "display_data"
    }
   ],
   "source": [
    "e_std_x, e_finite_x = [], []\n",
    "for i in range(0, step_sizes.shape[0]):\n",
    "    e_std_x.append(mean_squared_error([mean_grad_stds[i][0]], [true_grad[0]]))\n",
    "    e_finite_x.append(mean_squared_error([mean_grad_finites[i][0]], [true_grad[0]]))\n",
    "plt.plot(step_sizes, e_std_x, label = \"parameter-shift rule\")\n",
    "plt.plot(step_sizes, e_finite_x,  label = \"finite-different\")\n",
    "plt.xscale('log')\n",
    "plt.yscale('log')\n",
    "plt.xlabel(\"Step size\")\n",
    "plt.ylabel(\"MSE\")\n",
    "plt.legend()"
   ]
  },
  {
   "cell_type": "markdown",
   "metadata": {},
   "source": [
    "### Y"
   ]
  },
  {
   "cell_type": "code",
   "execution_count": 46,
   "metadata": {},
   "outputs": [
    {
     "data": {
      "text/plain": [
       "<matplotlib.legend.Legend at 0x182963b86a0>"
      ]
     },
     "execution_count": 46,
     "metadata": {},
     "output_type": "execute_result"
    },
    {
     "data": {
      "image/png": "[encoded data removed]",
      "text/plain": [
       "<Figure size 432x288 with 1 Axes>"
      ]
     },
     "metadata": {
      "needs_background": "light"
     },
     "output_type": "display_data"
    }
   ],
   "source": [
    "e_std_y, e_finite_y = [], []\n",
    "for i in range(0, step_sizes.shape[0]):\n",
    "    e_std_y.append(mean_squared_error([mean_grad_stds[i][1]], [true_grad[1]]))\n",
    "    e_finite_y.append(mean_squared_error([mean_grad_finites[i][1]], [true_grad[1]]))\n",
    "plt.plot(step_sizes, e_std_y, label = \"parameter-shift rule\")\n",
    "plt.plot(step_sizes, e_finite_y,  label = \"finite-different\")\n",
    "plt.xscale('log')\n",
    "plt.yscale('log')\n",
    "plt.xlabel(\"Step size\")\n",
    "plt.ylabel(\"MSE\")\n",
    "plt.legend()"
   ]
  }
 ],
 "metadata": {
  "kernelspec": {
   "display_name": "Python 3.8.0 64-bit",
   "language": "python",
   "name": "python3"
  },
  "language_info": {
   "codemirror_mode": {
    "name": "ipython",
    "version": 3
   },
   "file_extension": ".py",
   "mimetype": "text/x-python",
   "name": "python",
   "nbconvert_exporter": "python",
   "pygments_lexer": "ipython3",
   "version": "3.8.0"
  },
  "orig_nbformat": 4,
  "vscode": {
   "interpreter": {
    "hash": "b6314cf850edbae231b80224200c9e1580e03453e86236ed42ea1b49b1f8d2e3"
   }
  }
 },
 "nbformat": 4,
 "nbformat_minor": 2
}
