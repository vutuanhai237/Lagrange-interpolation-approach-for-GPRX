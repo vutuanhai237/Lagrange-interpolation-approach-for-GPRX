{
 "cells": [
  {
   "cell_type": "code",
   "execution_count": 63,
   "metadata": {},
   "outputs": [],
   "source": [
    "import base\n",
    "import numpy as np\n",
    "import matplotlib.pyplot as plt\n",
    "from scipy.linalg import null_space\n",
    "n = 5\n",
    "lambdax = 0.05\n",
    "lambdas = [-5/2, -3/2, -1/2, 1/2, 3/2, 5/2]\n",
    "\n",
    "def solve_linear_equation(T):\n",
    "    \"\"\"_summary_\n",
    "\n",
    "    Args:\n",
    "        T (_type_): _description_\n",
    "    \"\"\"\n",
    "    init_rcond = 1\n",
    "    t = 0\n",
    "    while t != 1000:\n",
    "        d = (null_space(T, rcond = init_rcond))\n",
    "        t += 1\n",
    "        if d.shape[1] != 1:\n",
    "            init_rcond /= 10\n",
    "        else:\n",
    "            return d\n",
    "    return []\n",
    "def lagrange_psr(lambdas):\n",
    "    dim_d = int(len(lambdas)**2/4) - 1 \n",
    "    # Find T\n",
    "    while(True): \n",
    "        Ts = []\n",
    "        deltas = []\n",
    "        thetas = []\n",
    "        for i in range(0, dim_d):\n",
    "            theta = np.random.uniform(0, 2*np.pi)\n",
    "            delta = (base.calculate_Lambda_matrix(lambdas, theta) - base.calculate_Lambda_matrix(lambdas, -theta))\n",
    "            thetas.append(theta)\n",
    "            deltas.append(delta)\n",
    "            Ts.append(base.upper_matrix(delta))\n",
    "        T = Ts[0]\n",
    "        for i in range(1, len(Ts)):\n",
    "            T = np.hstack((T, Ts[i]))\n",
    "        # Find d, if long, random thetas again\n",
    "        print(T[0])\n",
    "        d = solve_linear_equation(T)\n",
    "        if len(d) > 0:\n",
    "            break\n",
    "\n",
    "    for i in range(0, len(Ts)):\n",
    "        if np.abs((T @ d)[0])[0] > 10**(-10):\n",
    "            return False\n",
    "    \n",
    "    # Get normalized scalar\n",
    "    sumMatrix = d[0] * deltas[0]\n",
    "    for i in range(1, len(Ts)):\n",
    "        sumMatrix += d[i] * deltas[i]\n",
    "    # sumMatrix = (np.round(sumMatrix, 3))\n",
    "\n",
    "    # Normalize d\n",
    "    d /= sumMatrix[0][1]\n",
    "    return thetas, d\n"
   ]
  },
  {
   "cell_type": "code",
   "execution_count": 64,
   "metadata": {},
   "outputs": [
    {
     "name": "stdout",
     "output_type": "stream",
     "text": [
      "[0.-1.96224846e-04j 0.+5.80703876e-05j 0.+1.74862082e-03j\n",
      " 0.-1.49876151e+00j 0.+1.87416113e-02j 0.-2.16178324e-01j\n",
      " 0.+3.08935674e-01j 0.-3.63704030e-01j]\n",
      "[[ 7.25614038e-01-2.61597118e+00j]\n",
      " [ 9.02263562e-02-1.98993209e-01j]\n",
      " [ 3.67925690e-01+2.47127214e+00j]\n",
      " [-1.39173325e-05-8.71985724e-06j]\n",
      " [-1.19328526e-02-4.03267168e-01j]\n",
      " [ 3.74613858e-02-6.31203638e-02j]\n",
      " [ 6.72798220e-02-6.72664716e-02j]\n",
      " [ 3.57164972e-02-2.71030403e-02j]]\n"
     ]
    }
   ],
   "source": [
    "thetas, d = lagrange_psr(lambdas)\n",
    "print(d)"
   ]
  }
 ],
 "metadata": {
  "interpreter": {
   "hash": "b6314cf850edbae231b80224200c9e1580e03453e86236ed42ea1b49b1f8d2e3"
  },
  "kernelspec": {
   "display_name": "Python 3.8.0 64-bit",
   "language": "python",
   "name": "python3"
  },
  "language_info": {
   "codemirror_mode": {
    "name": "ipython",
    "version": 3
   },
   "file_extension": ".py",
   "mimetype": "text/x-python",
   "name": "python",
   "nbconvert_exporter": "python",
   "pygments_lexer": "ipython3",
   "version": "3.8.0"
  },
  "orig_nbformat": 4
 },
 "nbformat": 4,
 "nbformat_minor": 2
}
